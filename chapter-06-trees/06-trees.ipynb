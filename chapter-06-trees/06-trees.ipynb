{
 "cells": [
  {
   "cell_type": "code",
   "execution_count": 1,
   "id": "c36718ce",
   "metadata": {},
   "outputs": [
    {
     "name": "stdout",
     "output_type": "stream",
     "text": [
      "\"Status\",\"Seniority\",\"Home\",\"Time\",\"Age\",\"Marital\",\"Records\",\"Job\",\"Expenses\",\"Income\",\"Assets\",\"Debt\",\"Amount\",\"Price\"\n",
      "1,9,1,60,30,2,1,3,73,129,0,0,800,846\n",
      "1,17,1,60,58,3,1,1,48,131,0,0,1000,1658\n",
      "2,10,2,36,46,2,2,3,90,200,3000,0,2000,2985\n",
      "1,0,1,60,24,1,1,1,63,182,2500,0,900,1325\n",
      "1,0,1,36,26,1,1,1,46,107,0,0,310,910\n",
      "1,1,2,60,36,2,1,1,75,214,3500,0,650,1645\n",
      "1,29,2,60,44,2,1,1,75,125,10000,0,1600,1800\n",
      "1,9,5,12,27,1,1,1,35,80,0,0,200,1093\n",
      "1,0,2,60,32,2,1,3,90,107,15000,0,1200,1957\n"
     ]
    }
   ],
   "source": [
    "!head CreditScoring.csv"
   ]
  },
  {
   "cell_type": "code",
   "execution_count": 2,
   "id": "e568e4bd",
   "metadata": {},
   "outputs": [],
   "source": [
    "import pandas as pd\n",
    "import numpy as np\n",
    "\n",
    "import seaborn as sns\n",
    "from matplotlib import pyplot as plt\n",
    "%matplotlib inline"
   ]
  },
  {
   "cell_type": "code",
   "execution_count": 3,
   "id": "63e55bd7",
   "metadata": {},
   "outputs": [],
   "source": [
    "df = pd.read_csv('CreditScoring.csv')"
   ]
  },
  {
   "cell_type": "code",
   "execution_count": 4,
   "id": "93f6a587",
   "metadata": {},
   "outputs": [
    {
     "data": {
      "text/html": [
       "<div>\n",
       "<style scoped>\n",
       "    .dataframe tbody tr th:only-of-type {\n",
       "        vertical-align: middle;\n",
       "    }\n",
       "\n",
       "    .dataframe tbody tr th {\n",
       "        vertical-align: top;\n",
       "    }\n",
       "\n",
       "    .dataframe thead th {\n",
       "        text-align: right;\n",
       "    }\n",
       "</style>\n",
       "<table border=\"1\" class=\"dataframe\">\n",
       "  <thead>\n",
       "    <tr style=\"text-align: right;\">\n",
       "      <th></th>\n",
       "      <th>Status</th>\n",
       "      <th>Seniority</th>\n",
       "      <th>Home</th>\n",
       "      <th>Time</th>\n",
       "      <th>Age</th>\n",
       "      <th>Marital</th>\n",
       "      <th>Records</th>\n",
       "      <th>Job</th>\n",
       "      <th>Expenses</th>\n",
       "      <th>Income</th>\n",
       "      <th>Assets</th>\n",
       "      <th>Debt</th>\n",
       "      <th>Amount</th>\n",
       "      <th>Price</th>\n",
       "    </tr>\n",
       "  </thead>\n",
       "  <tbody>\n",
       "    <tr>\n",
       "      <th>0</th>\n",
       "      <td>1</td>\n",
       "      <td>9</td>\n",
       "      <td>1</td>\n",
       "      <td>60</td>\n",
       "      <td>30</td>\n",
       "      <td>2</td>\n",
       "      <td>1</td>\n",
       "      <td>3</td>\n",
       "      <td>73</td>\n",
       "      <td>129</td>\n",
       "      <td>0</td>\n",
       "      <td>0</td>\n",
       "      <td>800</td>\n",
       "      <td>846</td>\n",
       "    </tr>\n",
       "    <tr>\n",
       "      <th>1</th>\n",
       "      <td>1</td>\n",
       "      <td>17</td>\n",
       "      <td>1</td>\n",
       "      <td>60</td>\n",
       "      <td>58</td>\n",
       "      <td>3</td>\n",
       "      <td>1</td>\n",
       "      <td>1</td>\n",
       "      <td>48</td>\n",
       "      <td>131</td>\n",
       "      <td>0</td>\n",
       "      <td>0</td>\n",
       "      <td>1000</td>\n",
       "      <td>1658</td>\n",
       "    </tr>\n",
       "    <tr>\n",
       "      <th>2</th>\n",
       "      <td>2</td>\n",
       "      <td>10</td>\n",
       "      <td>2</td>\n",
       "      <td>36</td>\n",
       "      <td>46</td>\n",
       "      <td>2</td>\n",
       "      <td>2</td>\n",
       "      <td>3</td>\n",
       "      <td>90</td>\n",
       "      <td>200</td>\n",
       "      <td>3000</td>\n",
       "      <td>0</td>\n",
       "      <td>2000</td>\n",
       "      <td>2985</td>\n",
       "    </tr>\n",
       "    <tr>\n",
       "      <th>3</th>\n",
       "      <td>1</td>\n",
       "      <td>0</td>\n",
       "      <td>1</td>\n",
       "      <td>60</td>\n",
       "      <td>24</td>\n",
       "      <td>1</td>\n",
       "      <td>1</td>\n",
       "      <td>1</td>\n",
       "      <td>63</td>\n",
       "      <td>182</td>\n",
       "      <td>2500</td>\n",
       "      <td>0</td>\n",
       "      <td>900</td>\n",
       "      <td>1325</td>\n",
       "    </tr>\n",
       "    <tr>\n",
       "      <th>4</th>\n",
       "      <td>1</td>\n",
       "      <td>0</td>\n",
       "      <td>1</td>\n",
       "      <td>36</td>\n",
       "      <td>26</td>\n",
       "      <td>1</td>\n",
       "      <td>1</td>\n",
       "      <td>1</td>\n",
       "      <td>46</td>\n",
       "      <td>107</td>\n",
       "      <td>0</td>\n",
       "      <td>0</td>\n",
       "      <td>310</td>\n",
       "      <td>910</td>\n",
       "    </tr>\n",
       "  </tbody>\n",
       "</table>\n",
       "</div>"
      ],
      "text/plain": [
       "   Status  Seniority  Home  Time  Age  Marital  Records  Job  Expenses  \\\n",
       "0       1          9     1    60   30        2        1    3        73   \n",
       "1       1         17     1    60   58        3        1    1        48   \n",
       "2       2         10     2    36   46        2        2    3        90   \n",
       "3       1          0     1    60   24        1        1    1        63   \n",
       "4       1          0     1    36   26        1        1    1        46   \n",
       "\n",
       "   Income  Assets  Debt  Amount  Price  \n",
       "0     129       0     0     800    846  \n",
       "1     131       0     0    1000   1658  \n",
       "2     200    3000     0    2000   2985  \n",
       "3     182    2500     0     900   1325  \n",
       "4     107       0     0     310    910  "
      ]
     },
     "execution_count": 4,
     "metadata": {},
     "output_type": "execute_result"
    }
   ],
   "source": [
    "df.head()"
   ]
  },
  {
   "cell_type": "code",
   "execution_count": 5,
   "id": "387bef9c",
   "metadata": {
    "scrolled": false
   },
   "outputs": [
    {
     "data": {
      "text/html": [
       "<div>\n",
       "<style scoped>\n",
       "    .dataframe tbody tr th:only-of-type {\n",
       "        vertical-align: middle;\n",
       "    }\n",
       "\n",
       "    .dataframe tbody tr th {\n",
       "        vertical-align: top;\n",
       "    }\n",
       "\n",
       "    .dataframe thead th {\n",
       "        text-align: right;\n",
       "    }\n",
       "</style>\n",
       "<table border=\"1\" class=\"dataframe\">\n",
       "  <thead>\n",
       "    <tr style=\"text-align: right;\">\n",
       "      <th></th>\n",
       "      <th>status</th>\n",
       "      <th>seniority</th>\n",
       "      <th>home</th>\n",
       "      <th>time</th>\n",
       "      <th>age</th>\n",
       "      <th>marital</th>\n",
       "      <th>records</th>\n",
       "      <th>job</th>\n",
       "      <th>expenses</th>\n",
       "      <th>income</th>\n",
       "      <th>assets</th>\n",
       "      <th>debt</th>\n",
       "      <th>amount</th>\n",
       "      <th>price</th>\n",
       "    </tr>\n",
       "  </thead>\n",
       "  <tbody>\n",
       "    <tr>\n",
       "      <th>0</th>\n",
       "      <td>1</td>\n",
       "      <td>9</td>\n",
       "      <td>1</td>\n",
       "      <td>60</td>\n",
       "      <td>30</td>\n",
       "      <td>2</td>\n",
       "      <td>1</td>\n",
       "      <td>3</td>\n",
       "      <td>73</td>\n",
       "      <td>129</td>\n",
       "      <td>0</td>\n",
       "      <td>0</td>\n",
       "      <td>800</td>\n",
       "      <td>846</td>\n",
       "    </tr>\n",
       "    <tr>\n",
       "      <th>1</th>\n",
       "      <td>1</td>\n",
       "      <td>17</td>\n",
       "      <td>1</td>\n",
       "      <td>60</td>\n",
       "      <td>58</td>\n",
       "      <td>3</td>\n",
       "      <td>1</td>\n",
       "      <td>1</td>\n",
       "      <td>48</td>\n",
       "      <td>131</td>\n",
       "      <td>0</td>\n",
       "      <td>0</td>\n",
       "      <td>1000</td>\n",
       "      <td>1658</td>\n",
       "    </tr>\n",
       "    <tr>\n",
       "      <th>2</th>\n",
       "      <td>2</td>\n",
       "      <td>10</td>\n",
       "      <td>2</td>\n",
       "      <td>36</td>\n",
       "      <td>46</td>\n",
       "      <td>2</td>\n",
       "      <td>2</td>\n",
       "      <td>3</td>\n",
       "      <td>90</td>\n",
       "      <td>200</td>\n",
       "      <td>3000</td>\n",
       "      <td>0</td>\n",
       "      <td>2000</td>\n",
       "      <td>2985</td>\n",
       "    </tr>\n",
       "    <tr>\n",
       "      <th>3</th>\n",
       "      <td>1</td>\n",
       "      <td>0</td>\n",
       "      <td>1</td>\n",
       "      <td>60</td>\n",
       "      <td>24</td>\n",
       "      <td>1</td>\n",
       "      <td>1</td>\n",
       "      <td>1</td>\n",
       "      <td>63</td>\n",
       "      <td>182</td>\n",
       "      <td>2500</td>\n",
       "      <td>0</td>\n",
       "      <td>900</td>\n",
       "      <td>1325</td>\n",
       "    </tr>\n",
       "    <tr>\n",
       "      <th>4</th>\n",
       "      <td>1</td>\n",
       "      <td>0</td>\n",
       "      <td>1</td>\n",
       "      <td>36</td>\n",
       "      <td>26</td>\n",
       "      <td>1</td>\n",
       "      <td>1</td>\n",
       "      <td>1</td>\n",
       "      <td>46</td>\n",
       "      <td>107</td>\n",
       "      <td>0</td>\n",
       "      <td>0</td>\n",
       "      <td>310</td>\n",
       "      <td>910</td>\n",
       "    </tr>\n",
       "  </tbody>\n",
       "</table>\n",
       "</div>"
      ],
      "text/plain": [
       "   status  seniority  home  time  age  marital  records  job  expenses  \\\n",
       "0       1          9     1    60   30        2        1    3        73   \n",
       "1       1         17     1    60   58        3        1    1        48   \n",
       "2       2         10     2    36   46        2        2    3        90   \n",
       "3       1          0     1    60   24        1        1    1        63   \n",
       "4       1          0     1    36   26        1        1    1        46   \n",
       "\n",
       "   income  assets  debt  amount  price  \n",
       "0     129       0     0     800    846  \n",
       "1     131       0     0    1000   1658  \n",
       "2     200    3000     0    2000   2985  \n",
       "3     182    2500     0     900   1325  \n",
       "4     107       0     0     310    910  "
      ]
     },
     "execution_count": 5,
     "metadata": {},
     "output_type": "execute_result"
    }
   ],
   "source": [
    "df.columns = df.columns.str.lower()\n",
    "df.head()"
   ]
  },
  {
   "cell_type": "code",
   "execution_count": 6,
   "id": "765cec37",
   "metadata": {
    "scrolled": true
   },
   "outputs": [
    {
     "data": {
      "text/html": [
       "<div>\n",
       "<style scoped>\n",
       "    .dataframe tbody tr th:only-of-type {\n",
       "        vertical-align: middle;\n",
       "    }\n",
       "\n",
       "    .dataframe tbody tr th {\n",
       "        vertical-align: top;\n",
       "    }\n",
       "\n",
       "    .dataframe thead th {\n",
       "        text-align: right;\n",
       "    }\n",
       "</style>\n",
       "<table border=\"1\" class=\"dataframe\">\n",
       "  <thead>\n",
       "    <tr style=\"text-align: right;\">\n",
       "      <th></th>\n",
       "      <th>status</th>\n",
       "      <th>seniority</th>\n",
       "      <th>home</th>\n",
       "      <th>time</th>\n",
       "      <th>age</th>\n",
       "      <th>marital</th>\n",
       "      <th>records</th>\n",
       "      <th>job</th>\n",
       "      <th>expenses</th>\n",
       "      <th>income</th>\n",
       "      <th>assets</th>\n",
       "      <th>debt</th>\n",
       "      <th>amount</th>\n",
       "      <th>price</th>\n",
       "    </tr>\n",
       "  </thead>\n",
       "  <tbody>\n",
       "    <tr>\n",
       "      <th>0</th>\n",
       "      <td>ok</td>\n",
       "      <td>9</td>\n",
       "      <td>1</td>\n",
       "      <td>60</td>\n",
       "      <td>30</td>\n",
       "      <td>2</td>\n",
       "      <td>1</td>\n",
       "      <td>3</td>\n",
       "      <td>73</td>\n",
       "      <td>129</td>\n",
       "      <td>0</td>\n",
       "      <td>0</td>\n",
       "      <td>800</td>\n",
       "      <td>846</td>\n",
       "    </tr>\n",
       "    <tr>\n",
       "      <th>1</th>\n",
       "      <td>ok</td>\n",
       "      <td>17</td>\n",
       "      <td>1</td>\n",
       "      <td>60</td>\n",
       "      <td>58</td>\n",
       "      <td>3</td>\n",
       "      <td>1</td>\n",
       "      <td>1</td>\n",
       "      <td>48</td>\n",
       "      <td>131</td>\n",
       "      <td>0</td>\n",
       "      <td>0</td>\n",
       "      <td>1000</td>\n",
       "      <td>1658</td>\n",
       "    </tr>\n",
       "    <tr>\n",
       "      <th>2</th>\n",
       "      <td>default</td>\n",
       "      <td>10</td>\n",
       "      <td>2</td>\n",
       "      <td>36</td>\n",
       "      <td>46</td>\n",
       "      <td>2</td>\n",
       "      <td>2</td>\n",
       "      <td>3</td>\n",
       "      <td>90</td>\n",
       "      <td>200</td>\n",
       "      <td>3000</td>\n",
       "      <td>0</td>\n",
       "      <td>2000</td>\n",
       "      <td>2985</td>\n",
       "    </tr>\n",
       "    <tr>\n",
       "      <th>3</th>\n",
       "      <td>ok</td>\n",
       "      <td>0</td>\n",
       "      <td>1</td>\n",
       "      <td>60</td>\n",
       "      <td>24</td>\n",
       "      <td>1</td>\n",
       "      <td>1</td>\n",
       "      <td>1</td>\n",
       "      <td>63</td>\n",
       "      <td>182</td>\n",
       "      <td>2500</td>\n",
       "      <td>0</td>\n",
       "      <td>900</td>\n",
       "      <td>1325</td>\n",
       "    </tr>\n",
       "    <tr>\n",
       "      <th>4</th>\n",
       "      <td>ok</td>\n",
       "      <td>0</td>\n",
       "      <td>1</td>\n",
       "      <td>36</td>\n",
       "      <td>26</td>\n",
       "      <td>1</td>\n",
       "      <td>1</td>\n",
       "      <td>1</td>\n",
       "      <td>46</td>\n",
       "      <td>107</td>\n",
       "      <td>0</td>\n",
       "      <td>0</td>\n",
       "      <td>310</td>\n",
       "      <td>910</td>\n",
       "    </tr>\n",
       "  </tbody>\n",
       "</table>\n",
       "</div>"
      ],
      "text/plain": [
       "    status  seniority  home  time  age  marital  records  job  expenses  \\\n",
       "0       ok          9     1    60   30        2        1    3        73   \n",
       "1       ok         17     1    60   58        3        1    1        48   \n",
       "2  default         10     2    36   46        2        2    3        90   \n",
       "3       ok          0     1    60   24        1        1    1        63   \n",
       "4       ok          0     1    36   26        1        1    1        46   \n",
       "\n",
       "   income  assets  debt  amount  price  \n",
       "0     129       0     0     800    846  \n",
       "1     131       0     0    1000   1658  \n",
       "2     200    3000     0    2000   2985  \n",
       "3     182    2500     0     900   1325  \n",
       "4     107       0     0     310    910  "
      ]
     },
     "execution_count": 6,
     "metadata": {},
     "output_type": "execute_result"
    }
   ],
   "source": [
    "status_values = {\n",
    "    1: 'ok',\n",
    "    2: 'default',\n",
    "    0: 'unk'\n",
    "}\n",
    "\n",
    "df.status = df.status.map(status_values)\n",
    "df.head()"
   ]
  },
  {
   "cell_type": "code",
   "execution_count": 7,
   "id": "1d5f36cd",
   "metadata": {},
   "outputs": [],
   "source": [
    "home_values = {\n",
    "    1: 'rent',\n",
    "    2: 'owner',\n",
    "    3: 'private',\n",
    "    4: 'ignore',\n",
    "    5: 'parents',\n",
    "    6: 'other',\n",
    "    0: 'unk'\n",
    "}\n",
    "\n",
    "df.home = df.home.map(home_values)"
   ]
  },
  {
   "cell_type": "code",
   "execution_count": 8,
   "id": "993e3606",
   "metadata": {},
   "outputs": [],
   "source": [
    "marital_values = {\n",
    "    1: 'single',\n",
    "    2: 'married',\n",
    "    3: 'widow',\n",
    "    4: 'separated',\n",
    "    5: 'divorced',\n",
    "    0: 'unk'\n",
    "}\n",
    "\n",
    "df.marital = df.marital.map(marital_values)"
   ]
  },
  {
   "cell_type": "code",
   "execution_count": 9,
   "id": "4b367740",
   "metadata": {},
   "outputs": [],
   "source": [
    "records_values = {\n",
    "    1: 'no',\n",
    "    2: 'yes',\n",
    "    0: 'unk'\n",
    "}\n",
    "\n",
    "df.records = df.records.map(records_values)"
   ]
  },
  {
   "cell_type": "code",
   "execution_count": 10,
   "id": "fd23c15a",
   "metadata": {},
   "outputs": [],
   "source": [
    "job_values = {\n",
    "    1: 'fixed',\n",
    "    2: 'partime',\n",
    "    3: 'freelance',\n",
    "    4: 'others',\n",
    "    0: 'unk'\n",
    "}\n",
    "\n",
    "df.job = df.job.map(job_values)"
   ]
  },
  {
   "cell_type": "code",
   "execution_count": 11,
   "id": "cf4244d5",
   "metadata": {
    "scrolled": false
   },
   "outputs": [
    {
     "data": {
      "text/html": [
       "<div>\n",
       "<style scoped>\n",
       "    .dataframe tbody tr th:only-of-type {\n",
       "        vertical-align: middle;\n",
       "    }\n",
       "\n",
       "    .dataframe tbody tr th {\n",
       "        vertical-align: top;\n",
       "    }\n",
       "\n",
       "    .dataframe thead th {\n",
       "        text-align: right;\n",
       "    }\n",
       "</style>\n",
       "<table border=\"1\" class=\"dataframe\">\n",
       "  <thead>\n",
       "    <tr style=\"text-align: right;\">\n",
       "      <th></th>\n",
       "      <th>status</th>\n",
       "      <th>seniority</th>\n",
       "      <th>home</th>\n",
       "      <th>time</th>\n",
       "      <th>age</th>\n",
       "      <th>marital</th>\n",
       "      <th>records</th>\n",
       "      <th>job</th>\n",
       "      <th>expenses</th>\n",
       "      <th>income</th>\n",
       "      <th>assets</th>\n",
       "      <th>debt</th>\n",
       "      <th>amount</th>\n",
       "      <th>price</th>\n",
       "    </tr>\n",
       "  </thead>\n",
       "  <tbody>\n",
       "    <tr>\n",
       "      <th>0</th>\n",
       "      <td>ok</td>\n",
       "      <td>9</td>\n",
       "      <td>rent</td>\n",
       "      <td>60</td>\n",
       "      <td>30</td>\n",
       "      <td>married</td>\n",
       "      <td>no</td>\n",
       "      <td>freelance</td>\n",
       "      <td>73</td>\n",
       "      <td>129</td>\n",
       "      <td>0</td>\n",
       "      <td>0</td>\n",
       "      <td>800</td>\n",
       "      <td>846</td>\n",
       "    </tr>\n",
       "    <tr>\n",
       "      <th>1</th>\n",
       "      <td>ok</td>\n",
       "      <td>17</td>\n",
       "      <td>rent</td>\n",
       "      <td>60</td>\n",
       "      <td>58</td>\n",
       "      <td>widow</td>\n",
       "      <td>no</td>\n",
       "      <td>fixed</td>\n",
       "      <td>48</td>\n",
       "      <td>131</td>\n",
       "      <td>0</td>\n",
       "      <td>0</td>\n",
       "      <td>1000</td>\n",
       "      <td>1658</td>\n",
       "    </tr>\n",
       "    <tr>\n",
       "      <th>2</th>\n",
       "      <td>default</td>\n",
       "      <td>10</td>\n",
       "      <td>owner</td>\n",
       "      <td>36</td>\n",
       "      <td>46</td>\n",
       "      <td>married</td>\n",
       "      <td>yes</td>\n",
       "      <td>freelance</td>\n",
       "      <td>90</td>\n",
       "      <td>200</td>\n",
       "      <td>3000</td>\n",
       "      <td>0</td>\n",
       "      <td>2000</td>\n",
       "      <td>2985</td>\n",
       "    </tr>\n",
       "    <tr>\n",
       "      <th>3</th>\n",
       "      <td>ok</td>\n",
       "      <td>0</td>\n",
       "      <td>rent</td>\n",
       "      <td>60</td>\n",
       "      <td>24</td>\n",
       "      <td>single</td>\n",
       "      <td>no</td>\n",
       "      <td>fixed</td>\n",
       "      <td>63</td>\n",
       "      <td>182</td>\n",
       "      <td>2500</td>\n",
       "      <td>0</td>\n",
       "      <td>900</td>\n",
       "      <td>1325</td>\n",
       "    </tr>\n",
       "    <tr>\n",
       "      <th>4</th>\n",
       "      <td>ok</td>\n",
       "      <td>0</td>\n",
       "      <td>rent</td>\n",
       "      <td>36</td>\n",
       "      <td>26</td>\n",
       "      <td>single</td>\n",
       "      <td>no</td>\n",
       "      <td>fixed</td>\n",
       "      <td>46</td>\n",
       "      <td>107</td>\n",
       "      <td>0</td>\n",
       "      <td>0</td>\n",
       "      <td>310</td>\n",
       "      <td>910</td>\n",
       "    </tr>\n",
       "  </tbody>\n",
       "</table>\n",
       "</div>"
      ],
      "text/plain": [
       "    status  seniority   home  time  age  marital records        job  expenses  \\\n",
       "0       ok          9   rent    60   30  married      no  freelance        73   \n",
       "1       ok         17   rent    60   58    widow      no      fixed        48   \n",
       "2  default         10  owner    36   46  married     yes  freelance        90   \n",
       "3       ok          0   rent    60   24   single      no      fixed        63   \n",
       "4       ok          0   rent    36   26   single      no      fixed        46   \n",
       "\n",
       "   income  assets  debt  amount  price  \n",
       "0     129       0     0     800    846  \n",
       "1     131       0     0    1000   1658  \n",
       "2     200    3000     0    2000   2985  \n",
       "3     182    2500     0     900   1325  \n",
       "4     107       0     0     310    910  "
      ]
     },
     "execution_count": 11,
     "metadata": {},
     "output_type": "execute_result"
    }
   ],
   "source": [
    "df.head()"
   ]
  },
  {
   "cell_type": "markdown",
   "id": "8e0442b7",
   "metadata": {},
   "source": [
    "After this, all the categorical variables have strings, not numbers\n",
    "\n",
    "Let's look at numberical variables:"
   ]
  },
  {
   "cell_type": "code",
   "execution_count": 12,
   "id": "01796ba7",
   "metadata": {
    "scrolled": false
   },
   "outputs": [
    {
     "data": {
      "text/html": [
       "<div>\n",
       "<style scoped>\n",
       "    .dataframe tbody tr th:only-of-type {\n",
       "        vertical-align: middle;\n",
       "    }\n",
       "\n",
       "    .dataframe tbody tr th {\n",
       "        vertical-align: top;\n",
       "    }\n",
       "\n",
       "    .dataframe thead th {\n",
       "        text-align: right;\n",
       "    }\n",
       "</style>\n",
       "<table border=\"1\" class=\"dataframe\">\n",
       "  <thead>\n",
       "    <tr style=\"text-align: right;\">\n",
       "      <th></th>\n",
       "      <th>seniority</th>\n",
       "      <th>time</th>\n",
       "      <th>age</th>\n",
       "      <th>expenses</th>\n",
       "      <th>income</th>\n",
       "      <th>assets</th>\n",
       "      <th>debt</th>\n",
       "      <th>amount</th>\n",
       "      <th>price</th>\n",
       "    </tr>\n",
       "  </thead>\n",
       "  <tbody>\n",
       "    <tr>\n",
       "      <th>count</th>\n",
       "      <td>4455.0</td>\n",
       "      <td>4455.0</td>\n",
       "      <td>4455.0</td>\n",
       "      <td>4455.0</td>\n",
       "      <td>4455.0</td>\n",
       "      <td>4455.0</td>\n",
       "      <td>4455.0</td>\n",
       "      <td>4455.0</td>\n",
       "      <td>4455.0</td>\n",
       "    </tr>\n",
       "    <tr>\n",
       "      <th>mean</th>\n",
       "      <td>8.0</td>\n",
       "      <td>46.0</td>\n",
       "      <td>37.0</td>\n",
       "      <td>56.0</td>\n",
       "      <td>763317.0</td>\n",
       "      <td>1060341.0</td>\n",
       "      <td>404382.0</td>\n",
       "      <td>1039.0</td>\n",
       "      <td>1463.0</td>\n",
       "    </tr>\n",
       "    <tr>\n",
       "      <th>std</th>\n",
       "      <td>8.0</td>\n",
       "      <td>15.0</td>\n",
       "      <td>11.0</td>\n",
       "      <td>20.0</td>\n",
       "      <td>8703625.0</td>\n",
       "      <td>10217569.0</td>\n",
       "      <td>6344253.0</td>\n",
       "      <td>475.0</td>\n",
       "      <td>628.0</td>\n",
       "    </tr>\n",
       "    <tr>\n",
       "      <th>min</th>\n",
       "      <td>0.0</td>\n",
       "      <td>6.0</td>\n",
       "      <td>18.0</td>\n",
       "      <td>35.0</td>\n",
       "      <td>0.0</td>\n",
       "      <td>0.0</td>\n",
       "      <td>0.0</td>\n",
       "      <td>100.0</td>\n",
       "      <td>105.0</td>\n",
       "    </tr>\n",
       "    <tr>\n",
       "      <th>25%</th>\n",
       "      <td>2.0</td>\n",
       "      <td>36.0</td>\n",
       "      <td>28.0</td>\n",
       "      <td>35.0</td>\n",
       "      <td>80.0</td>\n",
       "      <td>0.0</td>\n",
       "      <td>0.0</td>\n",
       "      <td>700.0</td>\n",
       "      <td>1118.0</td>\n",
       "    </tr>\n",
       "    <tr>\n",
       "      <th>50%</th>\n",
       "      <td>5.0</td>\n",
       "      <td>48.0</td>\n",
       "      <td>36.0</td>\n",
       "      <td>51.0</td>\n",
       "      <td>120.0</td>\n",
       "      <td>3500.0</td>\n",
       "      <td>0.0</td>\n",
       "      <td>1000.0</td>\n",
       "      <td>1400.0</td>\n",
       "    </tr>\n",
       "    <tr>\n",
       "      <th>75%</th>\n",
       "      <td>12.0</td>\n",
       "      <td>60.0</td>\n",
       "      <td>45.0</td>\n",
       "      <td>72.0</td>\n",
       "      <td>166.0</td>\n",
       "      <td>6000.0</td>\n",
       "      <td>0.0</td>\n",
       "      <td>1300.0</td>\n",
       "      <td>1692.0</td>\n",
       "    </tr>\n",
       "    <tr>\n",
       "      <th>max</th>\n",
       "      <td>48.0</td>\n",
       "      <td>72.0</td>\n",
       "      <td>68.0</td>\n",
       "      <td>180.0</td>\n",
       "      <td>99999999.0</td>\n",
       "      <td>99999999.0</td>\n",
       "      <td>99999999.0</td>\n",
       "      <td>5000.0</td>\n",
       "      <td>11140.0</td>\n",
       "    </tr>\n",
       "  </tbody>\n",
       "</table>\n",
       "</div>"
      ],
      "text/plain": [
       "       seniority    time     age  expenses      income      assets  \\\n",
       "count     4455.0  4455.0  4455.0    4455.0      4455.0      4455.0   \n",
       "mean         8.0    46.0    37.0      56.0    763317.0   1060341.0   \n",
       "std          8.0    15.0    11.0      20.0   8703625.0  10217569.0   \n",
       "min          0.0     6.0    18.0      35.0         0.0         0.0   \n",
       "25%          2.0    36.0    28.0      35.0        80.0         0.0   \n",
       "50%          5.0    48.0    36.0      51.0       120.0      3500.0   \n",
       "75%         12.0    60.0    45.0      72.0       166.0      6000.0   \n",
       "max         48.0    72.0    68.0     180.0  99999999.0  99999999.0   \n",
       "\n",
       "             debt  amount    price  \n",
       "count      4455.0  4455.0   4455.0  \n",
       "mean     404382.0  1039.0   1463.0  \n",
       "std     6344253.0   475.0    628.0  \n",
       "min           0.0   100.0    105.0  \n",
       "25%           0.0   700.0   1118.0  \n",
       "50%           0.0  1000.0   1400.0  \n",
       "75%           0.0  1300.0   1692.0  \n",
       "max    99999999.0  5000.0  11140.0  "
      ]
     },
     "execution_count": 12,
     "metadata": {},
     "output_type": "execute_result"
    }
   ],
   "source": [
    "df.describe().round()"
   ]
  },
  {
   "cell_type": "markdown",
   "id": "56acf036",
   "metadata": {},
   "source": [
    "99999999 indicate missing values. Let's replace it by NaN:"
   ]
  },
  {
   "cell_type": "code",
   "execution_count": 13,
   "id": "b1243bff",
   "metadata": {},
   "outputs": [],
   "source": [
    "for c in['income', 'assets', 'debt']:\n",
    "    df[c] = df[c].replace(to_replace=99999999, value=np.nan)"
   ]
  },
  {
   "cell_type": "code",
   "execution_count": 14,
   "id": "ebe50580",
   "metadata": {
    "scrolled": true
   },
   "outputs": [
    {
     "data": {
      "text/plain": [
       "status        0\n",
       "seniority     0\n",
       "home          0\n",
       "time          0\n",
       "age           0\n",
       "marital       0\n",
       "records       0\n",
       "job           0\n",
       "expenses      0\n",
       "income       34\n",
       "assets       47\n",
       "debt         18\n",
       "amount        0\n",
       "price         0\n",
       "dtype: int64"
      ]
     },
     "execution_count": 14,
     "metadata": {},
     "output_type": "execute_result"
    }
   ],
   "source": [
    "df.isnull().sum()"
   ]
  },
  {
   "cell_type": "markdown",
   "id": "07115f27",
   "metadata": {},
   "source": [
    "Now the stats are more meaninful"
   ]
  },
  {
   "cell_type": "code",
   "execution_count": 15,
   "id": "5a919d8c",
   "metadata": {
    "scrolled": false
   },
   "outputs": [
    {
     "data": {
      "text/html": [
       "<div>\n",
       "<style scoped>\n",
       "    .dataframe tbody tr th:only-of-type {\n",
       "        vertical-align: middle;\n",
       "    }\n",
       "\n",
       "    .dataframe tbody tr th {\n",
       "        vertical-align: top;\n",
       "    }\n",
       "\n",
       "    .dataframe thead th {\n",
       "        text-align: right;\n",
       "    }\n",
       "</style>\n",
       "<table border=\"1\" class=\"dataframe\">\n",
       "  <thead>\n",
       "    <tr style=\"text-align: right;\">\n",
       "      <th></th>\n",
       "      <th>seniority</th>\n",
       "      <th>time</th>\n",
       "      <th>age</th>\n",
       "      <th>expenses</th>\n",
       "      <th>income</th>\n",
       "      <th>assets</th>\n",
       "      <th>debt</th>\n",
       "      <th>amount</th>\n",
       "      <th>price</th>\n",
       "    </tr>\n",
       "  </thead>\n",
       "  <tbody>\n",
       "    <tr>\n",
       "      <th>count</th>\n",
       "      <td>4455.0</td>\n",
       "      <td>4455.0</td>\n",
       "      <td>4455.0</td>\n",
       "      <td>4455.0</td>\n",
       "      <td>4421.0</td>\n",
       "      <td>4408.0</td>\n",
       "      <td>4437.0</td>\n",
       "      <td>4455.0</td>\n",
       "      <td>4455.0</td>\n",
       "    </tr>\n",
       "    <tr>\n",
       "      <th>mean</th>\n",
       "      <td>8.0</td>\n",
       "      <td>46.0</td>\n",
       "      <td>37.0</td>\n",
       "      <td>56.0</td>\n",
       "      <td>131.0</td>\n",
       "      <td>5403.0</td>\n",
       "      <td>343.0</td>\n",
       "      <td>1039.0</td>\n",
       "      <td>1463.0</td>\n",
       "    </tr>\n",
       "    <tr>\n",
       "      <th>std</th>\n",
       "      <td>8.0</td>\n",
       "      <td>15.0</td>\n",
       "      <td>11.0</td>\n",
       "      <td>20.0</td>\n",
       "      <td>86.0</td>\n",
       "      <td>11573.0</td>\n",
       "      <td>1246.0</td>\n",
       "      <td>475.0</td>\n",
       "      <td>628.0</td>\n",
       "    </tr>\n",
       "    <tr>\n",
       "      <th>min</th>\n",
       "      <td>0.0</td>\n",
       "      <td>6.0</td>\n",
       "      <td>18.0</td>\n",
       "      <td>35.0</td>\n",
       "      <td>0.0</td>\n",
       "      <td>0.0</td>\n",
       "      <td>0.0</td>\n",
       "      <td>100.0</td>\n",
       "      <td>105.0</td>\n",
       "    </tr>\n",
       "    <tr>\n",
       "      <th>25%</th>\n",
       "      <td>2.0</td>\n",
       "      <td>36.0</td>\n",
       "      <td>28.0</td>\n",
       "      <td>35.0</td>\n",
       "      <td>80.0</td>\n",
       "      <td>0.0</td>\n",
       "      <td>0.0</td>\n",
       "      <td>700.0</td>\n",
       "      <td>1118.0</td>\n",
       "    </tr>\n",
       "    <tr>\n",
       "      <th>50%</th>\n",
       "      <td>5.0</td>\n",
       "      <td>48.0</td>\n",
       "      <td>36.0</td>\n",
       "      <td>51.0</td>\n",
       "      <td>120.0</td>\n",
       "      <td>3000.0</td>\n",
       "      <td>0.0</td>\n",
       "      <td>1000.0</td>\n",
       "      <td>1400.0</td>\n",
       "    </tr>\n",
       "    <tr>\n",
       "      <th>75%</th>\n",
       "      <td>12.0</td>\n",
       "      <td>60.0</td>\n",
       "      <td>45.0</td>\n",
       "      <td>72.0</td>\n",
       "      <td>165.0</td>\n",
       "      <td>6000.0</td>\n",
       "      <td>0.0</td>\n",
       "      <td>1300.0</td>\n",
       "      <td>1692.0</td>\n",
       "    </tr>\n",
       "    <tr>\n",
       "      <th>max</th>\n",
       "      <td>48.0</td>\n",
       "      <td>72.0</td>\n",
       "      <td>68.0</td>\n",
       "      <td>180.0</td>\n",
       "      <td>959.0</td>\n",
       "      <td>300000.0</td>\n",
       "      <td>30000.0</td>\n",
       "      <td>5000.0</td>\n",
       "      <td>11140.0</td>\n",
       "    </tr>\n",
       "  </tbody>\n",
       "</table>\n",
       "</div>"
      ],
      "text/plain": [
       "       seniority    time     age  expenses  income    assets     debt  amount  \\\n",
       "count     4455.0  4455.0  4455.0    4455.0  4421.0    4408.0   4437.0  4455.0   \n",
       "mean         8.0    46.0    37.0      56.0   131.0    5403.0    343.0  1039.0   \n",
       "std          8.0    15.0    11.0      20.0    86.0   11573.0   1246.0   475.0   \n",
       "min          0.0     6.0    18.0      35.0     0.0       0.0      0.0   100.0   \n",
       "25%          2.0    36.0    28.0      35.0    80.0       0.0      0.0   700.0   \n",
       "50%          5.0    48.0    36.0      51.0   120.0    3000.0      0.0  1000.0   \n",
       "75%         12.0    60.0    45.0      72.0   165.0    6000.0      0.0  1300.0   \n",
       "max         48.0    72.0    68.0     180.0   959.0  300000.0  30000.0  5000.0   \n",
       "\n",
       "         price  \n",
       "count   4455.0  \n",
       "mean    1463.0  \n",
       "std      628.0  \n",
       "min      105.0  \n",
       "25%     1118.0  \n",
       "50%     1400.0  \n",
       "75%     1692.0  \n",
       "max    11140.0  "
      ]
     },
     "execution_count": 15,
     "metadata": {},
     "output_type": "execute_result"
    }
   ],
   "source": [
    "df.describe().round()"
   ]
  },
  {
   "cell_type": "markdown",
   "id": "9769a4cc",
   "metadata": {},
   "source": [
    "Let's look at the target variable"
   ]
  },
  {
   "cell_type": "code",
   "execution_count": 16,
   "id": "30b73be8",
   "metadata": {
    "scrolled": true
   },
   "outputs": [
    {
     "data": {
      "text/plain": [
       "status\n",
       "ok         3200\n",
       "default    1254\n",
       "unk           1\n",
       "Name: count, dtype: int64"
      ]
     },
     "execution_count": 16,
     "metadata": {},
     "output_type": "execute_result"
    }
   ],
   "source": [
    "df.status.value_counts()"
   ]
  },
  {
   "cell_type": "markdown",
   "id": "612ea3e4",
   "metadata": {},
   "source": [
    "There's one record for which the status is unknown. Let's remove it - it's not useful for us"
   ]
  },
  {
   "cell_type": "code",
   "execution_count": 17,
   "id": "8de9db95",
   "metadata": {},
   "outputs": [],
   "source": [
    "df = df[df.status != 'unk']"
   ]
  },
  {
   "cell_type": "code",
   "execution_count": 18,
   "id": "7ff222a2",
   "metadata": {
    "scrolled": true
   },
   "outputs": [
    {
     "data": {
      "text/plain": [
       "status        0\n",
       "seniority     0\n",
       "home          0\n",
       "time          0\n",
       "age           0\n",
       "marital       0\n",
       "records       0\n",
       "job           0\n",
       "expenses      0\n",
       "income       34\n",
       "assets       47\n",
       "debt         18\n",
       "amount        0\n",
       "price         0\n",
       "dtype: int64"
      ]
     },
     "execution_count": 18,
     "metadata": {},
     "output_type": "execute_result"
    }
   ],
   "source": [
    "df.isnull().sum()"
   ]
  },
  {
   "cell_type": "markdown",
   "id": "4fe1679b",
   "metadata": {},
   "source": [
    "Now we're ready to prepare the data for training:\n",
    "\n",
    "First, do train-validation-test split\n",
    "Then, apply one-hot encoding to categorical features and get the feature matrix"
   ]
  },
  {
   "cell_type": "code",
   "execution_count": 19,
   "id": "59cd76e5",
   "metadata": {},
   "outputs": [],
   "source": [
    "from sklearn.model_selection import train_test_split"
   ]
  },
  {
   "cell_type": "code",
   "execution_count": 20,
   "id": "f6da1233",
   "metadata": {},
   "outputs": [],
   "source": [
    "df_train_full, df_test = train_test_split(df, test_size=0.2, random_state=11)\n",
    "df_train, df_val = train_test_split(df_train_full, test_size=0.25, random_state=11)"
   ]
  },
  {
   "cell_type": "code",
   "execution_count": 21,
   "id": "75504759",
   "metadata": {},
   "outputs": [],
   "source": [
    "y_train = (df_train.status == 'default').values\n",
    "y_val = (df_val.status == 'default').values"
   ]
  },
  {
   "cell_type": "code",
   "execution_count": 22,
   "id": "2b50cbbe",
   "metadata": {
    "scrolled": true
   },
   "outputs": [],
   "source": [
    "del df_train['status']\n",
    "del df_val['status']"
   ]
  },
  {
   "cell_type": "code",
   "execution_count": 23,
   "id": "ceb16c12",
   "metadata": {
    "scrolled": true
   },
   "outputs": [
    {
     "data": {
      "text/plain": [
       "(2672, 891, 891)"
      ]
     },
     "execution_count": 23,
     "metadata": {},
     "output_type": "execute_result"
    }
   ],
   "source": [
    "len(df_train), len(df_val), len(df_test)"
   ]
  },
  {
   "cell_type": "markdown",
   "id": "1e7e1f19",
   "metadata": {},
   "source": [
    "For OHE, we'll use DictVectorizer"
   ]
  },
  {
   "cell_type": "code",
   "execution_count": 24,
   "id": "1c138752",
   "metadata": {},
   "outputs": [],
   "source": [
    "from sklearn.feature_extraction import DictVectorizer"
   ]
  },
  {
   "cell_type": "markdown",
   "id": "6509c022",
   "metadata": {},
   "source": [
    "Remember that we have some missing values:"
   ]
  },
  {
   "cell_type": "code",
   "execution_count": 25,
   "id": "58911e80",
   "metadata": {
    "scrolled": true
   },
   "outputs": [
    {
     "data": {
      "text/plain": [
       "seniority     0\n",
       "home          0\n",
       "time          0\n",
       "age           0\n",
       "marital       0\n",
       "records       0\n",
       "job           0\n",
       "expenses      0\n",
       "income       25\n",
       "assets       30\n",
       "debt         11\n",
       "amount        0\n",
       "price         0\n",
       "dtype: int64"
      ]
     },
     "execution_count": 25,
     "metadata": {},
     "output_type": "execute_result"
    }
   ],
   "source": [
    "df_train.isnull().sum()"
   ]
  },
  {
   "cell_type": "markdown",
   "id": "9ab8489e",
   "metadata": {},
   "source": [
    "We'll replace them with \"0\""
   ]
  },
  {
   "cell_type": "code",
   "execution_count": 26,
   "id": "f16894e8",
   "metadata": {},
   "outputs": [],
   "source": [
    "dict_train = df_train.fillna(0).to_dict(orient='records')\n",
    "dict_val = df_val.fillna(0).to_dict(orient='records')"
   ]
  },
  {
   "cell_type": "code",
   "execution_count": 27,
   "id": "63d3a26e",
   "metadata": {
    "scrolled": true
   },
   "outputs": [
    {
     "data": {
      "text/plain": [
       "{'seniority': 10,\n",
       " 'home': 'owner',\n",
       " 'time': 36,\n",
       " 'age': 36,\n",
       " 'marital': 'married',\n",
       " 'records': 'no',\n",
       " 'job': 'freelance',\n",
       " 'expenses': 75,\n",
       " 'income': 0.0,\n",
       " 'assets': 10000.0,\n",
       " 'debt': 0.0,\n",
       " 'amount': 1000,\n",
       " 'price': 1400}"
      ]
     },
     "execution_count": 27,
     "metadata": {},
     "output_type": "execute_result"
    }
   ],
   "source": [
    "dict_train[0]"
   ]
  },
  {
   "cell_type": "code",
   "execution_count": 28,
   "id": "2a8fd94f",
   "metadata": {},
   "outputs": [],
   "source": [
    "dv = DictVectorizer(sparse=False)\n",
    "\n",
    "X_train = dv.fit_transform(dict_train)\n",
    "X_val = dv.transform(dict_val)"
   ]
  },
  {
   "cell_type": "markdown",
   "id": "56572c78",
   "metadata": {},
   "source": [
    "Now we're ready to train a model. We'll start with decision trees"
   ]
  },
  {
   "cell_type": "markdown",
   "id": "c69c7877",
   "metadata": {},
   "source": [
    "### Decision Trees\n",
    "We'll use DecisionTreeClassifier and for evaluating the quality of our models, we'll use AUC"
   ]
  },
  {
   "cell_type": "code",
   "execution_count": 29,
   "id": "b0b9f544",
   "metadata": {},
   "outputs": [],
   "source": [
    "from sklearn.tree import DecisionTreeClassifier\n",
    "from sklearn.metrics import roc_auc_score"
   ]
  },
  {
   "cell_type": "markdown",
   "id": "181154d6",
   "metadata": {},
   "source": [
    "Let's fit the tree with default parameters"
   ]
  },
  {
   "cell_type": "code",
   "execution_count": 30,
   "id": "1a980cf4",
   "metadata": {},
   "outputs": [
    {
     "data": {
      "text/html": [
       "<style>#sk-container-id-1 {color: black;}#sk-container-id-1 pre{padding: 0;}#sk-container-id-1 div.sk-toggleable {background-color: white;}#sk-container-id-1 label.sk-toggleable__label {cursor: pointer;display: block;width: 100%;margin-bottom: 0;padding: 0.3em;box-sizing: border-box;text-align: center;}#sk-container-id-1 label.sk-toggleable__label-arrow:before {content: \"▸\";float: left;margin-right: 0.25em;color: #696969;}#sk-container-id-1 label.sk-toggleable__label-arrow:hover:before {color: black;}#sk-container-id-1 div.sk-estimator:hover label.sk-toggleable__label-arrow:before {color: black;}#sk-container-id-1 div.sk-toggleable__content {max-height: 0;max-width: 0;overflow: hidden;text-align: left;background-color: #f0f8ff;}#sk-container-id-1 div.sk-toggleable__content pre {margin: 0.2em;color: black;border-radius: 0.25em;background-color: #f0f8ff;}#sk-container-id-1 input.sk-toggleable__control:checked~div.sk-toggleable__content {max-height: 200px;max-width: 100%;overflow: auto;}#sk-container-id-1 input.sk-toggleable__control:checked~label.sk-toggleable__label-arrow:before {content: \"▾\";}#sk-container-id-1 div.sk-estimator input.sk-toggleable__control:checked~label.sk-toggleable__label {background-color: #d4ebff;}#sk-container-id-1 div.sk-label input.sk-toggleable__control:checked~label.sk-toggleable__label {background-color: #d4ebff;}#sk-container-id-1 input.sk-hidden--visually {border: 0;clip: rect(1px 1px 1px 1px);clip: rect(1px, 1px, 1px, 1px);height: 1px;margin: -1px;overflow: hidden;padding: 0;position: absolute;width: 1px;}#sk-container-id-1 div.sk-estimator {font-family: monospace;background-color: #f0f8ff;border: 1px dotted black;border-radius: 0.25em;box-sizing: border-box;margin-bottom: 0.5em;}#sk-container-id-1 div.sk-estimator:hover {background-color: #d4ebff;}#sk-container-id-1 div.sk-parallel-item::after {content: \"\";width: 100%;border-bottom: 1px solid gray;flex-grow: 1;}#sk-container-id-1 div.sk-label:hover label.sk-toggleable__label {background-color: #d4ebff;}#sk-container-id-1 div.sk-serial::before {content: \"\";position: absolute;border-left: 1px solid gray;box-sizing: border-box;top: 0;bottom: 0;left: 50%;z-index: 0;}#sk-container-id-1 div.sk-serial {display: flex;flex-direction: column;align-items: center;background-color: white;padding-right: 0.2em;padding-left: 0.2em;position: relative;}#sk-container-id-1 div.sk-item {position: relative;z-index: 1;}#sk-container-id-1 div.sk-parallel {display: flex;align-items: stretch;justify-content: center;background-color: white;position: relative;}#sk-container-id-1 div.sk-item::before, #sk-container-id-1 div.sk-parallel-item::before {content: \"\";position: absolute;border-left: 1px solid gray;box-sizing: border-box;top: 0;bottom: 0;left: 50%;z-index: -1;}#sk-container-id-1 div.sk-parallel-item {display: flex;flex-direction: column;z-index: 1;position: relative;background-color: white;}#sk-container-id-1 div.sk-parallel-item:first-child::after {align-self: flex-end;width: 50%;}#sk-container-id-1 div.sk-parallel-item:last-child::after {align-self: flex-start;width: 50%;}#sk-container-id-1 div.sk-parallel-item:only-child::after {width: 0;}#sk-container-id-1 div.sk-dashed-wrapped {border: 1px dashed gray;margin: 0 0.4em 0.5em 0.4em;box-sizing: border-box;padding-bottom: 0.4em;background-color: white;}#sk-container-id-1 div.sk-label label {font-family: monospace;font-weight: bold;display: inline-block;line-height: 1.2em;}#sk-container-id-1 div.sk-label-container {text-align: center;}#sk-container-id-1 div.sk-container {/* jupyter's `normalize.less` sets `[hidden] { display: none; }` but bootstrap.min.css set `[hidden] { display: none !important; }` so we also need the `!important` here to be able to override the default hidden behavior on the sphinx rendered scikit-learn.org. See: https://github.com/scikit-learn/scikit-learn/issues/21755 */display: inline-block !important;position: relative;}#sk-container-id-1 div.sk-text-repr-fallback {display: none;}</style><div id=\"sk-container-id-1\" class=\"sk-top-container\"><div class=\"sk-text-repr-fallback\"><pre>DecisionTreeClassifier()</pre><b>In a Jupyter environment, please rerun this cell to show the HTML representation or trust the notebook. <br />On GitHub, the HTML representation is unable to render, please try loading this page with nbviewer.org.</b></div><div class=\"sk-container\" hidden><div class=\"sk-item\"><div class=\"sk-estimator sk-toggleable\"><input class=\"sk-toggleable__control sk-hidden--visually\" id=\"sk-estimator-id-1\" type=\"checkbox\" checked><label for=\"sk-estimator-id-1\" class=\"sk-toggleable__label sk-toggleable__label-arrow\">DecisionTreeClassifier</label><div class=\"sk-toggleable__content\"><pre>DecisionTreeClassifier()</pre></div></div></div></div></div>"
      ],
      "text/plain": [
       "DecisionTreeClassifier()"
      ]
     },
     "execution_count": 30,
     "metadata": {},
     "output_type": "execute_result"
    }
   ],
   "source": [
    "dt = DecisionTreeClassifier()\n",
    "dt.fit(X_train, y_train)"
   ]
  },
  {
   "cell_type": "markdown",
   "id": "f695c13f",
   "metadata": {},
   "source": [
    "To get the predictions (probabilities), we use `predict_proba`. Let's check AUC on train data:"
   ]
  },
  {
   "cell_type": "code",
   "execution_count": 31,
   "id": "f33fdacf",
   "metadata": {},
   "outputs": [
    {
     "data": {
      "text/plain": [
       "1.0"
      ]
     },
     "execution_count": 31,
     "metadata": {},
     "output_type": "execute_result"
    }
   ],
   "source": [
    "y_pred = dt.predict_proba(X_train)[:, 1]\n",
    "roc_auc_score(y_train, y_pred)"
   ]
  },
  {
   "cell_type": "markdown",
   "id": "5ae02a21",
   "metadata": {},
   "source": [
    "And on validation:"
   ]
  },
  {
   "cell_type": "code",
   "execution_count": 32,
   "id": "2ea1b5cd",
   "metadata": {
    "scrolled": true
   },
   "outputs": [
    {
     "data": {
      "text/plain": [
       "0.6576675304545785"
      ]
     },
     "execution_count": 32,
     "metadata": {},
     "output_type": "execute_result"
    }
   ],
   "source": [
    "y_pred = dt.predict_proba(X_val)[:, 1]\n",
    "roc_auc_score(y_val, y_pred)"
   ]
  },
  {
   "cell_type": "markdown",
   "id": "088eb976",
   "metadata": {},
   "source": [
    "That's a case of overfitting - our model on the training data performs perfectly, but fails on validation\n",
    "\n",
    "Let's change the depth parameter: restring the size of the tree to 2 levels:"
   ]
  },
  {
   "cell_type": "code",
   "execution_count": 33,
   "id": "51b2509c",
   "metadata": {},
   "outputs": [
    {
     "name": "stdout",
     "output_type": "stream",
     "text": [
      "train auc: 0.705\n",
      "val auc: 0.669\n"
     ]
    }
   ],
   "source": [
    "dt = DecisionTreeClassifier(max_depth=2)\n",
    "dt.fit(X_train, y_train)\n",
    "\n",
    "y_pred = dt.predict_proba(X_train)[:, 1]\n",
    "auc = roc_auc_score(y_train, y_pred)\n",
    "print('train auc: %.3f' % auc)\n",
    "\n",
    "y_pred = dt.predict_proba(X_val)[:, 1]\n",
    "auc = roc_auc_score(y_val, y_pred)\n",
    "print('val auc: %.3f' % auc)"
   ]
  },
  {
   "cell_type": "markdown",
   "id": "d5c1ec9d",
   "metadata": {},
   "source": [
    "### Tuning Parameters"
   ]
  },
  {
   "cell_type": "code",
   "execution_count": 34,
   "id": "80b5beda",
   "metadata": {},
   "outputs": [
    {
     "data": {
      "text/html": [
       "<style>#sk-container-id-2 {color: black;}#sk-container-id-2 pre{padding: 0;}#sk-container-id-2 div.sk-toggleable {background-color: white;}#sk-container-id-2 label.sk-toggleable__label {cursor: pointer;display: block;width: 100%;margin-bottom: 0;padding: 0.3em;box-sizing: border-box;text-align: center;}#sk-container-id-2 label.sk-toggleable__label-arrow:before {content: \"▸\";float: left;margin-right: 0.25em;color: #696969;}#sk-container-id-2 label.sk-toggleable__label-arrow:hover:before {color: black;}#sk-container-id-2 div.sk-estimator:hover label.sk-toggleable__label-arrow:before {color: black;}#sk-container-id-2 div.sk-toggleable__content {max-height: 0;max-width: 0;overflow: hidden;text-align: left;background-color: #f0f8ff;}#sk-container-id-2 div.sk-toggleable__content pre {margin: 0.2em;color: black;border-radius: 0.25em;background-color: #f0f8ff;}#sk-container-id-2 input.sk-toggleable__control:checked~div.sk-toggleable__content {max-height: 200px;max-width: 100%;overflow: auto;}#sk-container-id-2 input.sk-toggleable__control:checked~label.sk-toggleable__label-arrow:before {content: \"▾\";}#sk-container-id-2 div.sk-estimator input.sk-toggleable__control:checked~label.sk-toggleable__label {background-color: #d4ebff;}#sk-container-id-2 div.sk-label input.sk-toggleable__control:checked~label.sk-toggleable__label {background-color: #d4ebff;}#sk-container-id-2 input.sk-hidden--visually {border: 0;clip: rect(1px 1px 1px 1px);clip: rect(1px, 1px, 1px, 1px);height: 1px;margin: -1px;overflow: hidden;padding: 0;position: absolute;width: 1px;}#sk-container-id-2 div.sk-estimator {font-family: monospace;background-color: #f0f8ff;border: 1px dotted black;border-radius: 0.25em;box-sizing: border-box;margin-bottom: 0.5em;}#sk-container-id-2 div.sk-estimator:hover {background-color: #d4ebff;}#sk-container-id-2 div.sk-parallel-item::after {content: \"\";width: 100%;border-bottom: 1px solid gray;flex-grow: 1;}#sk-container-id-2 div.sk-label:hover label.sk-toggleable__label {background-color: #d4ebff;}#sk-container-id-2 div.sk-serial::before {content: \"\";position: absolute;border-left: 1px solid gray;box-sizing: border-box;top: 0;bottom: 0;left: 50%;z-index: 0;}#sk-container-id-2 div.sk-serial {display: flex;flex-direction: column;align-items: center;background-color: white;padding-right: 0.2em;padding-left: 0.2em;position: relative;}#sk-container-id-2 div.sk-item {position: relative;z-index: 1;}#sk-container-id-2 div.sk-parallel {display: flex;align-items: stretch;justify-content: center;background-color: white;position: relative;}#sk-container-id-2 div.sk-item::before, #sk-container-id-2 div.sk-parallel-item::before {content: \"\";position: absolute;border-left: 1px solid gray;box-sizing: border-box;top: 0;bottom: 0;left: 50%;z-index: -1;}#sk-container-id-2 div.sk-parallel-item {display: flex;flex-direction: column;z-index: 1;position: relative;background-color: white;}#sk-container-id-2 div.sk-parallel-item:first-child::after {align-self: flex-end;width: 50%;}#sk-container-id-2 div.sk-parallel-item:last-child::after {align-self: flex-start;width: 50%;}#sk-container-id-2 div.sk-parallel-item:only-child::after {width: 0;}#sk-container-id-2 div.sk-dashed-wrapped {border: 1px dashed gray;margin: 0 0.4em 0.5em 0.4em;box-sizing: border-box;padding-bottom: 0.4em;background-color: white;}#sk-container-id-2 div.sk-label label {font-family: monospace;font-weight: bold;display: inline-block;line-height: 1.2em;}#sk-container-id-2 div.sk-label-container {text-align: center;}#sk-container-id-2 div.sk-container {/* jupyter's `normalize.less` sets `[hidden] { display: none; }` but bootstrap.min.css set `[hidden] { display: none !important; }` so we also need the `!important` here to be able to override the default hidden behavior on the sphinx rendered scikit-learn.org. See: https://github.com/scikit-learn/scikit-learn/issues/21755 */display: inline-block !important;position: relative;}#sk-container-id-2 div.sk-text-repr-fallback {display: none;}</style><div id=\"sk-container-id-2\" class=\"sk-top-container\"><div class=\"sk-text-repr-fallback\"><pre>DecisionTreeClassifier(max_depth=6)</pre><b>In a Jupyter environment, please rerun this cell to show the HTML representation or trust the notebook. <br />On GitHub, the HTML representation is unable to render, please try loading this page with nbviewer.org.</b></div><div class=\"sk-container\" hidden><div class=\"sk-item\"><div class=\"sk-estimator sk-toggleable\"><input class=\"sk-toggleable__control sk-hidden--visually\" id=\"sk-estimator-id-2\" type=\"checkbox\" checked><label for=\"sk-estimator-id-2\" class=\"sk-toggleable__label sk-toggleable__label-arrow\">DecisionTreeClassifier</label><div class=\"sk-toggleable__content\"><pre>DecisionTreeClassifier(max_depth=6)</pre></div></div></div></div></div>"
      ],
      "text/plain": [
       "DecisionTreeClassifier(max_depth=6)"
      ]
     },
     "execution_count": 34,
     "metadata": {},
     "output_type": "execute_result"
    }
   ],
   "source": [
    "dt = DecisionTreeClassifier(max_depth=6)\n",
    "dt.fit(X_train, y_train)"
   ]
  },
  {
   "cell_type": "code",
   "execution_count": 35,
   "id": "4f4c0dd7",
   "metadata": {},
   "outputs": [],
   "source": [
    "y_pred = dt.predict_proba(X_val)[:, 1]"
   ]
  },
  {
   "cell_type": "code",
   "execution_count": 36,
   "id": "efbff827",
   "metadata": {
    "scrolled": true
   },
   "outputs": [
    {
     "data": {
      "text/plain": [
       "0.7611041146981182"
      ]
     },
     "execution_count": 36,
     "metadata": {},
     "output_type": "execute_result"
    }
   ],
   "source": [
    "roc_auc_score(y_val, y_pred)"
   ]
  },
  {
   "cell_type": "code",
   "execution_count": 37,
   "id": "ceea1b31",
   "metadata": {
    "scrolled": true
   },
   "outputs": [
    {
     "name": "stdout",
     "output_type": "stream",
     "text": [
      "   1 -> 0.606\n",
      "   2 -> 0.669\n",
      "   3 -> 0.739\n",
      "   4 -> 0.761\n",
      "   5 -> 0.767\n",
      "   6 -> 0.751\n",
      "  10 -> 0.683\n",
      "  15 -> 0.657\n",
      "  20 -> 0.654\n",
      "None -> 0.661\n"
     ]
    }
   ],
   "source": [
    "for depth in [1, 2, 3, 4, 5, 6, 10, 15, 20, None]:\n",
    "    dt = DecisionTreeClassifier(max_depth=depth)\n",
    "    dt.fit(X_train, y_train)\n",
    "    y_pred = dt.predict_proba(X_val)[:, 1]\n",
    "    auc = roc_auc_score(y_val, y_pred)\n",
    "    print('%4s -> %.3f' % (depth, auc))"
   ]
  },
  {
   "cell_type": "code",
   "execution_count": 38,
   "id": "686ef614",
   "metadata": {
    "scrolled": true
   },
   "outputs": [
    {
     "name": "stdout",
     "output_type": "stream",
     "text": [
      "1 -> 0.761\n",
      "5 -> 0.761\n",
      "10 -> 0.761\n",
      "15 -> 0.764\n",
      "20 -> 0.761\n",
      "50 -> 0.753\n",
      "100 -> 0.756\n",
      "200 -> 0.747\n"
     ]
    }
   ],
   "source": [
    "for m in [1, 5, 10, 15, 20, 50, 100, 200]:\n",
    "    dt = DecisionTreeClassifier(max_depth=4, min_samples_leaf=m)\n",
    "    dt.fit(X_train, y_train)\n",
    "    y_pred = dt.predict_proba(X_val)[:, 1]\n",
    "    auc = roc_auc_score(y_val, y_pred)\n",
    "    print('%s -> %.3f' % (m, auc))"
   ]
  },
  {
   "cell_type": "code",
   "execution_count": 39,
   "id": "c17a118d",
   "metadata": {},
   "outputs": [
    {
     "name": "stdout",
     "output_type": "stream",
     "text": [
      "depth: 4\n",
      "1 -> 0.761\n",
      "5 -> 0.761\n",
      "10 -> 0.761\n",
      "15 -> 0.764\n",
      "20 -> 0.761\n",
      "50 -> 0.753\n",
      "100 -> 0.756\n",
      "200 -> 0.747\n",
      "\n",
      "depth: 5\n",
      "1 -> 0.766\n",
      "5 -> 0.768\n",
      "10 -> 0.762\n",
      "15 -> 0.772\n",
      "20 -> 0.774\n",
      "50 -> 0.767\n",
      "100 -> 0.763\n",
      "200 -> 0.759\n",
      "\n",
      "depth: 6\n",
      "1 -> 0.762\n",
      "5 -> 0.762\n",
      "10 -> 0.778\n",
      "15 -> 0.785\n",
      "20 -> 0.774\n",
      "50 -> 0.770\n",
      "100 -> 0.776\n",
      "200 -> 0.768\n",
      "\n"
     ]
    }
   ],
   "source": [
    "for m in [4, 5, 6]:\n",
    "    print('depth: %s' % m)\n",
    "    \n",
    "    for s in [1, 5, 10, 15, 20, 50, 100, 200]:\n",
    "        dt = DecisionTreeClassifier(max_depth=m, min_samples_leaf=s)\n",
    "        dt.fit(X_train, y_train)\n",
    "        y_pred = dt.predict_proba(X_val)[:, 1]\n",
    "        auc = roc_auc_score(y_val, y_pred)\n",
    "        print('%s -> %.3f' % (s, auc))\n",
    "        \n",
    "    print()    "
   ]
  },
  {
   "cell_type": "code",
   "execution_count": 40,
   "id": "4ee640eb",
   "metadata": {
    "scrolled": true
   },
   "outputs": [
    {
     "name": "stdout",
     "output_type": "stream",
     "text": [
      "1 -> 0.760\n",
      "5 -> 0.762\n",
      "10 -> 0.778\n",
      "15 -> 0.785\n",
      "20 -> 0.774\n",
      "50 -> 0.770\n",
      "100 -> 0.776\n",
      "200 -> 0.768\n"
     ]
    }
   ],
   "source": [
    "for m in [1, 5, 10, 15, 20, 50, 100, 200]:\n",
    "    dt = DecisionTreeClassifier(max_depth=6, min_samples_leaf=m)\n",
    "    dt.fit(X_train, y_train)\n",
    "    y_pred = dt.predict_proba(X_val)[:, 1]\n",
    "    auc = roc_auc_score(y_val, y_pred)\n",
    "    print('%s -> %.3f' % (m, auc))"
   ]
  },
  {
   "cell_type": "code",
   "execution_count": 41,
   "id": "36088efb",
   "metadata": {},
   "outputs": [
    {
     "data": {
      "text/plain": [
       "0.7852498123077667"
      ]
     },
     "execution_count": 41,
     "metadata": {},
     "output_type": "execute_result"
    }
   ],
   "source": [
    "dt = DecisionTreeClassifier(max_depth=6, min_samples_leaf=15)\n",
    "dt.fit(X_train, y_train)\n",
    "\n",
    "y_pred_dt = dt.predict_proba(X_val)[:, 1]\n",
    "roc_auc_score(y_val, y_pred_dt)"
   ]
  },
  {
   "cell_type": "code",
   "execution_count": 42,
   "id": "a18a6d7f",
   "metadata": {},
   "outputs": [],
   "source": [
    "from sklearn.metrics import roc_curve"
   ]
  },
  {
   "cell_type": "code",
   "execution_count": 43,
   "id": "9bd1e226",
   "metadata": {
    "scrolled": false
   },
   "outputs": [
    {
     "data": {
      "image/png": "[encoded data removed]",
      "text/plain": [
       "<Figure size 500x500 with 1 Axes>"
      ]
     },
     "metadata": {},
     "output_type": "display_data"
    }
   ],
   "source": [
    "fpr, tpr, _ = roc_curve(y_val, y_pred_dt)\n",
    "\n",
    "plt.figure(figsize=(5, 5))\n",
    "\n",
    "plt.plot(fpr, tpr, color='black')\n",
    "plt.plot([0, 1], [0, 1], color='black', lw=0.7, linestyle='dashed', alpha=0.5)\n",
    "\n",
    "plt.xlim([-0.02, 1.02])\n",
    "plt.ylim([-0.02, 1.02])\n",
    "plt.xlabel('False Positive Rate')\n",
    "plt.ylabel('True Positive Rate')\n",
    "\n",
    "plt.title('ROC curve')\n",
    "\n",
    "plt.show()"
   ]
  },
  {
   "cell_type": "markdown",
   "id": "eb213b8d",
   "metadata": {},
   "source": [
    "### Random Forest"
   ]
  },
  {
   "cell_type": "code",
   "execution_count": 44,
   "id": "fcb4b256",
   "metadata": {},
   "outputs": [],
   "source": [
    "from sklearn.ensemble import RandomForestClassifier"
   ]
  },
  {
   "cell_type": "code",
   "execution_count": 45,
   "id": "a960aea7",
   "metadata": {},
   "outputs": [
    {
     "data": {
      "text/plain": [
       "0.7836968104429537"
      ]
     },
     "execution_count": 45,
     "metadata": {},
     "output_type": "execute_result"
    }
   ],
   "source": [
    "rf = RandomForestClassifier(n_estimators=10)\n",
    "rf.fit(X_train, y_train)\n",
    "y_pred = rf.predict_proba(X_val)[:, 1]\n",
    "roc_auc_score(y_val, y_pred)"
   ]
  },
  {
   "cell_type": "markdown",
   "id": "b8319fb2",
   "metadata": {},
   "source": [
    "If we repeat one more time - it changes:"
   ]
  },
  {
   "cell_type": "code",
   "execution_count": 46,
   "id": "a9dbbaa9",
   "metadata": {},
   "outputs": [
    {
     "data": {
      "text/plain": [
       "0.7819833619917174"
      ]
     },
     "execution_count": 46,
     "metadata": {},
     "output_type": "execute_result"
    }
   ],
   "source": [
    "rf = RandomForestClassifier(n_estimators=10)\n",
    "rf.fit(X_train, y_train)\n",
    "y_pred = rf.predict_proba(X_val)[:, 1]\n",
    "roc_auc_score(y_val, y_pred)"
   ]
  },
  {
   "cell_type": "markdown",
   "id": "178707ff",
   "metadata": {},
   "source": [
    "To understand how much it changes, we can repeat it 100 times and look at the mean and the standard deviation"
   ]
  },
  {
   "cell_type": "code",
   "execution_count": 47,
   "id": "c6613ced",
   "metadata": {
    "scrolled": true
   },
   "outputs": [
    {
     "name": "stdout",
     "output_type": "stream",
     "text": [
      "0.785 +- 0.009\n",
      "0.775 -- 0.794\n"
     ]
    }
   ],
   "source": [
    "aucs = []\n",
    "\n",
    "for i in range(100):\n",
    "    rf = RandomForestClassifier(n_estimators=10)\n",
    "    rf.fit(X_train, y_train)\n",
    "    y_pred = rf.predict_proba(X_val)[:, 1]\n",
    "    auc = roc_auc_score(y_val, y_pred)\n",
    "    aucs.append(auc)\n",
    "    \n",
    "auc_mean = np.mean(aucs)\n",
    "auc_std =np.std(aucs)\n",
    "\n",
    "print('%.3f +- %.3f' % (auc_mean, auc_std))\n",
    "print('%.3f -- %.3f' % (auc_mean -  auc_std, auc_mean + auc_std))"
   ]
  },
  {
   "cell_type": "markdown",
   "id": "5fb4045f",
   "metadata": {},
   "source": [
    "To fix this issue, let's set the seed"
   ]
  },
  {
   "cell_type": "code",
   "execution_count": 48,
   "id": "ca659c52",
   "metadata": {},
   "outputs": [
    {
     "data": {
      "text/plain": [
       "0.7811145285897654"
      ]
     },
     "execution_count": 48,
     "metadata": {},
     "output_type": "execute_result"
    }
   ],
   "source": [
    "rf = RandomForestClassifier(n_estimators=10, random_state=3)\n",
    "rf.fit(X_train, y_train)\n",
    "y_pred = rf.predict_proba(X_val)[:, 1]\n",
    "roc_auc_score(y_val, y_pred)"
   ]
  },
  {
   "cell_type": "markdown",
   "id": "cab9c56f",
   "metadata": {},
   "source": [
    "Now we'll check how AUC depends on the number of trees"
   ]
  },
  {
   "cell_type": "code",
   "execution_count": 49,
   "id": "31d27384",
   "metadata": {
    "scrolled": true
   },
   "outputs": [
    {
     "name": "stdout",
     "output_type": "stream",
     "text": [
      "10 -> 0.781\n",
      "20 -> 0.801\n",
      "30 -> 0.813\n",
      "40 -> 0.815\n",
      "50 -> 0.816\n",
      "60 -> 0.817\n",
      "70 -> 0.818\n",
      "80 -> 0.818\n",
      "90 -> 0.820\n",
      "100 -> 0.819\n",
      "110 -> 0.819\n",
      "120 -> 0.821\n",
      "130 -> 0.822\n",
      "140 -> 0.822\n",
      "150 -> 0.820\n",
      "160 -> 0.820\n",
      "170 -> 0.819\n",
      "180 -> 0.820\n",
      "190 -> 0.820\n",
      "200 -> 0.820\n"
     ]
    }
   ],
   "source": [
    "aucs = []\n",
    "\n",
    "for i in range(10, 201, 10):\n",
    "    rf = RandomForestClassifier(n_estimators=i, random_state=3)\n",
    "    rf.fit(X_train, y_train)\n",
    "    y_pred = rf.predict_proba(X_val)[:, 1]\n",
    "    auc = roc_auc_score(y_val, y_pred)\n",
    "    print('%s -> %.3f' % (i, auc))\n",
    "    aucs.append(auc)"
   ]
  },
  {
   "cell_type": "code",
   "execution_count": 50,
   "id": "e5586951",
   "metadata": {
    "scrolled": false
   },
   "outputs": [
    {
     "data": {
      "image/png": "[encoded data removed]",
      "text/plain": [
       "<Figure size 600x400 with 1 Axes>"
      ]
     },
     "metadata": {},
     "output_type": "display_data"
    }
   ],
   "source": [
    "plt.figure(figsize=(6, 4))\n",
    "\n",
    "plt.plot(range(10, 201, 10), aucs, color='black')\n",
    "plt.xticks(range(0, 201, 50))\n",
    "\n",
    "plt.title('Number of trees vs AUC')\n",
    "plt.xlabel('Number of trees')\n",
    "plt.ylabel('AUC')\n",
    "\n",
    "# plt.savefig('ch06-figures/06_random_forest_n_estimators.svg')\n",
    "\n",
    "plt.show()"
   ]
  },
  {
   "cell_type": "markdown",
   "id": "8c8740bf",
   "metadata": {},
   "source": [
    "#### Tuning the `max_depth` parameter:"
   ]
  },
  {
   "cell_type": "code",
   "execution_count": 51,
   "id": "56aff336",
   "metadata": {
    "scrolled": false
   },
   "outputs": [
    {
     "name": "stdout",
     "output_type": "stream",
     "text": [
      "depth: 5\n",
      "10 -> 0.788\n",
      "20 -> 0.798\n",
      "30 -> 0.800\n",
      "40 -> 0.800\n",
      "50 -> 0.800\n",
      "60 -> 0.801\n",
      "70 -> 0.802\n",
      "80 -> 0.803\n",
      "90 -> 0.804\n",
      "100 -> 0.804\n",
      "110 -> 0.807\n",
      "120 -> 0.806\n",
      "130 -> 0.808\n",
      "140 -> 0.807\n",
      "150 -> 0.807\n",
      "160 -> 0.807\n",
      "170 -> 0.807\n",
      "180 -> 0.807\n",
      "190 -> 0.807\n",
      "200 -> 0.807\n",
      "\n",
      "depth: 10\n",
      "10 -> 0.791\n",
      "20 -> 0.808\n",
      "30 -> 0.812\n",
      "40 -> 0.818\n",
      "50 -> 0.817\n",
      "60 -> 0.819\n",
      "70 -> 0.820\n",
      "80 -> 0.820\n",
      "90 -> 0.820\n",
      "100 -> 0.821\n",
      "110 -> 0.823\n",
      "120 -> 0.823\n",
      "130 -> 0.825\n",
      "140 -> 0.824\n",
      "150 -> 0.824\n",
      "160 -> 0.825\n",
      "170 -> 0.825\n",
      "180 -> 0.825\n",
      "190 -> 0.825\n",
      "200 -> 0.825\n",
      "\n",
      "depth: 20\n",
      "10 -> 0.776\n",
      "20 -> 0.803\n",
      "30 -> 0.813\n",
      "40 -> 0.817\n",
      "50 -> 0.815\n",
      "60 -> 0.813\n",
      "70 -> 0.814\n",
      "80 -> 0.815\n",
      "90 -> 0.814\n",
      "100 -> 0.815\n",
      "110 -> 0.817\n",
      "120 -> 0.816\n",
      "130 -> 0.818\n",
      "140 -> 0.818\n",
      "150 -> 0.818\n",
      "160 -> 0.818\n",
      "170 -> 0.817\n",
      "180 -> 0.817\n",
      "190 -> 0.817\n",
      "200 -> 0.818\n",
      "\n"
     ]
    }
   ],
   "source": [
    "all_aucs = {}\n",
    "\n",
    "for depth in [5, 10, 20]:\n",
    "    print('depth: %s' % depth)\n",
    "    aucs = []\n",
    "\n",
    "    for i in range(10, 201, 10):\n",
    "        rf = RandomForestClassifier(n_estimators=i, max_depth=depth, random_state=1)\n",
    "        rf.fit(X_train, y_train)\n",
    "        y_pred = rf.predict_proba(X_val)[:, 1]\n",
    "        auc = roc_auc_score(y_val, y_pred)\n",
    "        print('%s -> %.3f' % (i, auc))\n",
    "        aucs.append(auc)\n",
    "    \n",
    "    all_aucs[depth] = aucs\n",
    "    print()"
   ]
  },
  {
   "cell_type": "code",
   "execution_count": 52,
   "id": "bfebf7b4",
   "metadata": {
    "scrolled": false
   },
   "outputs": [
    {
     "data": {
      "image/png": "[encoded data removed]",
      "text/plain": [
       "<Figure size 600x400 with 1 Axes>"
      ]
     },
     "metadata": {},
     "output_type": "display_data"
    }
   ],
   "source": [
    "plt.figure(figsize=(6, 4))\n",
    "\n",
    "num_trees = list(range(10, 201, 10))\n",
    "\n",
    "plt.plot(num_trees, all_aucs[5], label='depth=5', color='black', linestyle='dotted')\n",
    "plt.plot(num_trees, all_aucs[10], label='depth=10', color='black', linestyle='dashed')\n",
    "plt.plot(num_trees, all_aucs[20], label='depth=20', color='black', linestyle='solid')\n",
    "    \n",
    "plt.xticks(range(0, 201, 50))\n",
    "plt.legend()\n",
    "\n",
    "plt.title('Number of trees vs AUC')\n",
    "plt.xlabel('Number of trees')\n",
    "plt.ylabel('AUC')\n",
    "\n",
    "# plt.savefig('ch06-figures/06_random_forest_n_estimators_depth.svg')\n",
    "\n",
    "plt.show()\n"
   ]
  },
  {
   "cell_type": "markdown",
   "id": "b2a83f96",
   "metadata": {},
   "source": [
    "#### Tuning the `min_samples_leaf` parameter"
   ]
  },
  {
   "cell_type": "code",
   "execution_count": 53,
   "id": "06251a83",
   "metadata": {},
   "outputs": [
    {
     "name": "stdout",
     "output_type": "stream",
     "text": [
      "min_samples_leaf: 3\n",
      "10 -> 0.811\n",
      "30 -> 0.823\n",
      "50 -> 0.823\n",
      "70 -> 0.822\n",
      "90 -> 0.823\n",
      "110 -> 0.823\n",
      "130 -> 0.824\n",
      "150 -> 0.825\n",
      "170 -> 0.825\n",
      "190 -> 0.825\n",
      "\n",
      "min_samples_leaf: 5\n",
      "10 -> 0.813\n",
      "30 -> 0.818\n",
      "50 -> 0.821\n",
      "70 -> 0.822\n",
      "90 -> 0.822\n",
      "110 -> 0.825\n",
      "130 -> 0.825\n",
      "150 -> 0.825\n",
      "170 -> 0.825\n",
      "190 -> 0.826\n",
      "\n",
      "min_samples_leaf: 10\n",
      "10 -> 0.810\n",
      "30 -> 0.822\n",
      "50 -> 0.822\n",
      "70 -> 0.819\n",
      "90 -> 0.820\n",
      "110 -> 0.820\n",
      "130 -> 0.821\n",
      "150 -> 0.820\n",
      "170 -> 0.820\n",
      "190 -> 0.820\n",
      "\n"
     ]
    }
   ],
   "source": [
    "all_aucs = {}\n",
    "\n",
    "for m in [3, 5, 10]:\n",
    "    print('min_samples_leaf: %s' % m)\n",
    "    aucs = []\n",
    "    \n",
    "    for i in range(10, 201, 20):\n",
    "        rf = RandomForestClassifier(n_estimators=i, max_depth=10, min_samples_leaf=m, random_state=1)\n",
    "        rf.fit(X_train, y_train)\n",
    "        y_pred = rf.predict_proba(X_val)[:, 1]\n",
    "        auc = roc_auc_score(y_val, y_pred)\n",
    "        print('%s -> %.3f' % (i, auc))\n",
    "        aucs.append(auc)\n",
    "        \n",
    "    all_aucs[m] = aucs\n",
    "    print()"
   ]
  },
  {
   "cell_type": "code",
   "execution_count": 54,
   "id": "f46664cf",
   "metadata": {},
   "outputs": [
    {
     "data": {
      "image/png": "[encoded data removed]",
      "text/plain": [
       "<Figure size 600x400 with 1 Axes>"
      ]
     },
     "metadata": {},
     "output_type": "display_data"
    }
   ],
   "source": [
    "plt.figure(figsize=(6, 4))\n",
    "\n",
    "num_trees = list(range(10, 201, 20))\n",
    "\n",
    "plt.plot(num_trees, all_aucs[3], label='min_samples_leaf=3', color='black', linestyle='dotted')\n",
    "plt.plot(num_trees, all_aucs[5], label='min_samples_leaf=5', color='black', linestyle='dashed')\n",
    "plt.plot(num_trees, all_aucs[10], label='min_samples_leaf=10', color='black', linestyle='solid')\n",
    "    \n",
    "plt.xticks(range(0, 201, 50))\n",
    "plt.legend()\n",
    "\n",
    "plt.title('Number of trees vs AUC')\n",
    "plt.xlabel('Number of trees')\n",
    "plt.ylabel('AUC')\n",
    "\n",
    "# plt.savefig('ch06-figures/06_random_forest_n_estimators_sample_leaf.svg')\n",
    "\n",
    "plt.show()"
   ]
  },
  {
   "cell_type": "markdown",
   "id": "20bf0ae7",
   "metadata": {},
   "source": [
    "#### Training the final model:"
   ]
  },
  {
   "cell_type": "code",
   "execution_count": 55,
   "id": "810cb83a",
   "metadata": {},
   "outputs": [
    {
     "data": {
      "text/html": [
       "<style>#sk-container-id-3 {color: black;}#sk-container-id-3 pre{padding: 0;}#sk-container-id-3 div.sk-toggleable {background-color: white;}#sk-container-id-3 label.sk-toggleable__label {cursor: pointer;display: block;width: 100%;margin-bottom: 0;padding: 0.3em;box-sizing: border-box;text-align: center;}#sk-container-id-3 label.sk-toggleable__label-arrow:before {content: \"▸\";float: left;margin-right: 0.25em;color: #696969;}#sk-container-id-3 label.sk-toggleable__label-arrow:hover:before {color: black;}#sk-container-id-3 div.sk-estimator:hover label.sk-toggleable__label-arrow:before {color: black;}#sk-container-id-3 div.sk-toggleable__content {max-height: 0;max-width: 0;overflow: hidden;text-align: left;background-color: #f0f8ff;}#sk-container-id-3 div.sk-toggleable__content pre {margin: 0.2em;color: black;border-radius: 0.25em;background-color: #f0f8ff;}#sk-container-id-3 input.sk-toggleable__control:checked~div.sk-toggleable__content {max-height: 200px;max-width: 100%;overflow: auto;}#sk-container-id-3 input.sk-toggleable__control:checked~label.sk-toggleable__label-arrow:before {content: \"▾\";}#sk-container-id-3 div.sk-estimator input.sk-toggleable__control:checked~label.sk-toggleable__label {background-color: #d4ebff;}#sk-container-id-3 div.sk-label input.sk-toggleable__control:checked~label.sk-toggleable__label {background-color: #d4ebff;}#sk-container-id-3 input.sk-hidden--visually {border: 0;clip: rect(1px 1px 1px 1px);clip: rect(1px, 1px, 1px, 1px);height: 1px;margin: -1px;overflow: hidden;padding: 0;position: absolute;width: 1px;}#sk-container-id-3 div.sk-estimator {font-family: monospace;background-color: #f0f8ff;border: 1px dotted black;border-radius: 0.25em;box-sizing: border-box;margin-bottom: 0.5em;}#sk-container-id-3 div.sk-estimator:hover {background-color: #d4ebff;}#sk-container-id-3 div.sk-parallel-item::after {content: \"\";width: 100%;border-bottom: 1px solid gray;flex-grow: 1;}#sk-container-id-3 div.sk-label:hover label.sk-toggleable__label {background-color: #d4ebff;}#sk-container-id-3 div.sk-serial::before {content: \"\";position: absolute;border-left: 1px solid gray;box-sizing: border-box;top: 0;bottom: 0;left: 50%;z-index: 0;}#sk-container-id-3 div.sk-serial {display: flex;flex-direction: column;align-items: center;background-color: white;padding-right: 0.2em;padding-left: 0.2em;position: relative;}#sk-container-id-3 div.sk-item {position: relative;z-index: 1;}#sk-container-id-3 div.sk-parallel {display: flex;align-items: stretch;justify-content: center;background-color: white;position: relative;}#sk-container-id-3 div.sk-item::before, #sk-container-id-3 div.sk-parallel-item::before {content: \"\";position: absolute;border-left: 1px solid gray;box-sizing: border-box;top: 0;bottom: 0;left: 50%;z-index: -1;}#sk-container-id-3 div.sk-parallel-item {display: flex;flex-direction: column;z-index: 1;position: relative;background-color: white;}#sk-container-id-3 div.sk-parallel-item:first-child::after {align-self: flex-end;width: 50%;}#sk-container-id-3 div.sk-parallel-item:last-child::after {align-self: flex-start;width: 50%;}#sk-container-id-3 div.sk-parallel-item:only-child::after {width: 0;}#sk-container-id-3 div.sk-dashed-wrapped {border: 1px dashed gray;margin: 0 0.4em 0.5em 0.4em;box-sizing: border-box;padding-bottom: 0.4em;background-color: white;}#sk-container-id-3 div.sk-label label {font-family: monospace;font-weight: bold;display: inline-block;line-height: 1.2em;}#sk-container-id-3 div.sk-label-container {text-align: center;}#sk-container-id-3 div.sk-container {/* jupyter's `normalize.less` sets `[hidden] { display: none; }` but bootstrap.min.css set `[hidden] { display: none !important; }` so we also need the `!important` here to be able to override the default hidden behavior on the sphinx rendered scikit-learn.org. See: https://github.com/scikit-learn/scikit-learn/issues/21755 */display: inline-block !important;position: relative;}#sk-container-id-3 div.sk-text-repr-fallback {display: none;}</style><div id=\"sk-container-id-3\" class=\"sk-top-container\"><div class=\"sk-text-repr-fallback\"><pre>RandomForestClassifier(max_depth=10, min_samples_leaf=5, n_estimators=200,\n",
       "                       random_state=1)</pre><b>In a Jupyter environment, please rerun this cell to show the HTML representation or trust the notebook. <br />On GitHub, the HTML representation is unable to render, please try loading this page with nbviewer.org.</b></div><div class=\"sk-container\" hidden><div class=\"sk-item\"><div class=\"sk-estimator sk-toggleable\"><input class=\"sk-toggleable__control sk-hidden--visually\" id=\"sk-estimator-id-3\" type=\"checkbox\" checked><label for=\"sk-estimator-id-3\" class=\"sk-toggleable__label sk-toggleable__label-arrow\">RandomForestClassifier</label><div class=\"sk-toggleable__content\"><pre>RandomForestClassifier(max_depth=10, min_samples_leaf=5, n_estimators=200,\n",
       "                       random_state=1)</pre></div></div></div></div></div>"
      ],
      "text/plain": [
       "RandomForestClassifier(max_depth=10, min_samples_leaf=5, n_estimators=200,\n",
       "                       random_state=1)"
      ]
     },
     "execution_count": 55,
     "metadata": {},
     "output_type": "execute_result"
    }
   ],
   "source": [
    "rf = RandomForestClassifier(n_estimators=200, max_depth=10, min_samples_leaf=5, random_state=1)\n",
    "rf.fit(X_train, y_train)"
   ]
  },
  {
   "cell_type": "code",
   "execution_count": 56,
   "id": "777619e1",
   "metadata": {},
   "outputs": [
    {
     "data": {
      "text/plain": [
       "0.8253826499721489"
      ]
     },
     "execution_count": 56,
     "metadata": {},
     "output_type": "execute_result"
    }
   ],
   "source": [
    "y_pred_rf = rf.predict_proba(X_val)[:, 1]\n",
    "roc_auc_score(y_val, y_pred_rf)"
   ]
  },
  {
   "cell_type": "code",
   "execution_count": 57,
   "id": "4236d259",
   "metadata": {},
   "outputs": [
    {
     "data": {
      "image/png": "[encoded data removed]",
      "text/plain": [
       "<Figure size 500x500 with 1 Axes>"
      ]
     },
     "metadata": {},
     "output_type": "display_data"
    }
   ],
   "source": [
    "plt.figure(figsize=(5, 5))\n",
    "\n",
    "fpr, tpr, _ = roc_curve(y_val, y_pred_rf)\n",
    "plt.plot(fpr, tpr, color='black')\n",
    "\n",
    "fpr, tpr, _ = roc_curve(y_val, y_pred_dt)\n",
    "plt.plot(fpr, tpr, color='black', linestyle='dashed')\n",
    "\n",
    "plt.plot([0, 1], [0, 1], color='black', lw=0.7, linestyle='dashed', alpha=0.5)\n",
    "\n",
    "plt.xlim([-0.02, 1.02])\n",
    "plt.ylim([-0.02, 1.02])\n",
    "plt.xlabel('False Positive Rate')\n",
    "plt.ylabel('True Positive Rate')\n",
    "\n",
    "plt.title('ROC curve')\n",
    "\n",
    "plt.show()"
   ]
  },
  {
   "cell_type": "markdown",
   "id": "7aa0ad27",
   "metadata": {},
   "source": [
    "### XGBoost"
   ]
  },
  {
   "cell_type": "code",
   "execution_count": 58,
   "id": "9207cafc",
   "metadata": {
    "scrolled": true
   },
   "outputs": [],
   "source": [
    "import xgboost as xgb"
   ]
  },
  {
   "cell_type": "code",
   "execution_count": 59,
   "id": "2fb138de",
   "metadata": {},
   "outputs": [],
   "source": [
    "dtrain = xgb.DMatrix(X_train, label=y_train, feature_names=dv.feature_names_)\n",
    "dval = xgb.DMatrix(X_val, label=y_val, feature_names=dv.feature_names_)"
   ]
  },
  {
   "cell_type": "code",
   "execution_count": 60,
   "id": "6d2db58b",
   "metadata": {},
   "outputs": [],
   "source": [
    "xgb_params = {\n",
    "    'eta': 0.3,\n",
    "    'max_depth': 6,\n",
    "    'min_child_weight': 1,\n",
    "\n",
    "    'objective': 'binary:logistic',\n",
    "    'nthread': 8,\n",
    "    'seed': 1\n",
    "}"
   ]
  },
  {
   "cell_type": "code",
   "execution_count": 61,
   "id": "f4f781b8",
   "metadata": {},
   "outputs": [],
   "source": [
    "model = xgb.train(xgb_params, dtrain, num_boost_round=10)"
   ]
  },
  {
   "cell_type": "code",
   "execution_count": 62,
   "id": "a5f88c0c",
   "metadata": {
    "scrolled": true
   },
   "outputs": [
    {
     "data": {
      "text/plain": [
       "array([0.07751459, 0.07131889, 0.0675393 , 0.12096145, 0.05379206,\n",
       "       0.06382526, 0.06665564, 0.4352498 , 0.41923273, 0.02550563],\n",
       "      dtype=float32)"
      ]
     },
     "execution_count": 62,
     "metadata": {},
     "output_type": "execute_result"
    }
   ],
   "source": [
    "y_pred = model.predict(dval)\n",
    "y_pred[:10]"
   ]
  },
  {
   "cell_type": "code",
   "execution_count": 63,
   "id": "0f2978ba",
   "metadata": {
    "scrolled": true
   },
   "outputs": [
    {
     "data": {
      "text/plain": [
       "0.8065256351262986"
      ]
     },
     "execution_count": 63,
     "metadata": {},
     "output_type": "execute_result"
    }
   ],
   "source": [
    "roc_auc_score(y_val, y_pred)"
   ]
  },
  {
   "cell_type": "code",
   "execution_count": 64,
   "id": "2bf26787",
   "metadata": {},
   "outputs": [],
   "source": [
    "watchlist = [(dtrain, 'train'), (dval, 'val')]"
   ]
  },
  {
   "cell_type": "code",
   "execution_count": 65,
   "id": "992c78f9",
   "metadata": {},
   "outputs": [],
   "source": [
    "xgb_params = {\n",
    "    'eta': 0.3,\n",
    "    'max_depth': 6,\n",
    "    'min_child_weight': 1,\n",
    "    \n",
    "    'objective': 'binary:logistic',\n",
    "    'eval_metric': 'auc',\n",
    "    'nthread': 8,\n",
    "    'seed': 1\n",
    "}"
   ]
  },
  {
   "cell_type": "code",
   "execution_count": 66,
   "id": "4f0694ea",
   "metadata": {
    "scrolled": true
   },
   "outputs": [
    {
     "name": "stdout",
     "output_type": "stream",
     "text": [
      "[0]\ttrain-auc:0.86730\tval-auc:0.77938\n",
      "[10]\ttrain-auc:0.95447\tval-auc:0.80851\n",
      "[20]\ttrain-auc:0.97464\tval-auc:0.81729\n",
      "[30]\ttrain-auc:0.98579\tval-auc:0.81543\n",
      "[40]\ttrain-auc:0.99421\tval-auc:0.80922\n",
      "[50]\ttrain-auc:0.99653\tval-auc:0.80918\n",
      "[60]\ttrain-auc:0.99817\tval-auc:0.81172\n",
      "[70]\ttrain-auc:0.99934\tval-auc:0.80870\n",
      "[80]\ttrain-auc:0.99979\tval-auc:0.80549\n",
      "[90]\ttrain-auc:0.99993\tval-auc:0.80409\n",
      "[99]\ttrain-auc:0.99999\tval-auc:0.80560\n"
     ]
    }
   ],
   "source": [
    "model = xgb.train(xgb_params, dtrain,\n",
    "                  num_boost_round=100,\n",
    "                 evals=watchlist, verbose_eval=10)"
   ]
  },
  {
   "cell_type": "markdown",
   "id": "09e3e2b6",
   "metadata": {},
   "source": [
    "To capture this output, we can use\n",
    "\n",
    "- `%%capture` instruction that saves the result to `output`\n",
    "- `parse_xgb_output` function that parses it"
   ]
  },
  {
   "cell_type": "code",
   "execution_count": 67,
   "id": "84270fdb",
   "metadata": {},
   "outputs": [],
   "source": [
    "%%capture output\n",
    "\n",
    "model = xgb.train(xgb_params, dtrain,\n",
    "                  num_boost_round=100,\n",
    "                  evals=watchlist, verbose_eval=5)"
   ]
  },
  {
   "cell_type": "code",
   "execution_count": 68,
   "id": "8759262d",
   "metadata": {},
   "outputs": [],
   "source": [
    "def parse_xgb_output(output):\n",
    "    tree = []\n",
    "    aucs_train = []\n",
    "    aucs_val = []\n",
    "    \n",
    "    for line in output.stdout.strip().split('\\n'):\n",
    "        it_line, train_line, val_line = line.split('\\t')\n",
    "        \n",
    "        it = int(it_line.strip('[]'))\n",
    "        train = float(train_line.split(':')[1])\n",
    "        val = float(val_line.split(':')[1])\n",
    "        \n",
    "        tree.append(it)\n",
    "        aucs_train.append(train)\n",
    "        aucs_val.append(val)\n",
    "        \n",
    "    return tree, aucs_train, aucs_val"
   ]
  },
  {
   "cell_type": "markdown",
   "id": "d7c6e050",
   "metadata": {},
   "source": [
    "Let's use it for plotting the scores"
   ]
  },
  {
   "cell_type": "code",
   "execution_count": 69,
   "id": "d186cbfe",
   "metadata": {},
   "outputs": [],
   "source": [
    "tree, aucs_train, aucs_val = parse_xgb_output(output)"
   ]
  },
  {
   "cell_type": "code",
   "execution_count": 70,
   "id": "92f7551c",
   "metadata": {
    "scrolled": false
   },
   "outputs": [
    {
     "data": {
      "image/png": "[encoded data removed]",
      "text/plain": [
       "<Figure size 600x400 with 1 Axes>"
      ]
     },
     "metadata": {},
     "output_type": "display_data"
    }
   ],
   "source": [
    "plt.figure(figsize=(6, 4))\n",
    "\n",
    "plt.plot(tree, aucs_train, color='black', linestyle='dashed', label='Train AUC')\n",
    "plt.plot(tree, aucs_val, color='black', linestyle='solid', label='Validation AUC')\n",
    "plt.xticks(range(0, 101, 25))\n",
    "\n",
    "plt.legend()\n",
    "\n",
    "plt.title('XGBoost: number of trees vs AUC')\n",
    "plt.xlabel('Number of trees')\n",
    "plt.ylabel('AUC')\n",
    "\n",
    "# plt.savefig('ch06-figures/06_xgb_default.svg')\n",
    "\n",
    "plt.show()"
   ]
  },
  {
   "cell_type": "markdown",
   "id": "915f1bc2",
   "metadata": {},
   "source": [
    "### Parameter tuning: eta\n",
    "First, we try to set eta to 0.1"
   ]
  },
  {
   "cell_type": "code",
   "execution_count": 71,
   "id": "349f71c7",
   "metadata": {},
   "outputs": [],
   "source": [
    "%%capture output\n",
    "\n",
    "xgb_params = {\n",
    "    'eta': 0.3,\n",
    "    'max_depth': 6,\n",
    "    'min_child_weight': 1,\n",
    "\n",
    "    'objective': 'binary:logistic',\n",
    "    'eval_metric': 'auc',\n",
    "    'nthread': 8,\n",
    "    'seed': 1,\n",
    "}\n",
    "\n",
    "model = xgb.train(xgb_params, dtrain,\n",
    "                  num_boost_round=500, verbose_eval=10,\n",
    "                  evals=watchlist)"
   ]
  },
  {
   "cell_type": "code",
   "execution_count": 72,
   "id": "adae2f09",
   "metadata": {
    "scrolled": true
   },
   "outputs": [
    {
     "name": "stdout",
     "output_type": "stream",
     "text": [
      "0.81729\n",
      "(0.81729, 20)\n"
     ]
    }
   ],
   "source": [
    "tree, _, aucs_val_eta_03 = parse_xgb_output(output)\n",
    "print(max(aucs_val_eta_03))\n",
    "print(max(zip(aucs_val_eta_03, tree)))"
   ]
  },
  {
   "cell_type": "code",
   "execution_count": 73,
   "id": "e30788ec",
   "metadata": {},
   "outputs": [],
   "source": [
    "%%capture output\n",
    "\n",
    "xgb_params = {\n",
    "    'eta': 0.1,\n",
    "    'max_depth': 6,\n",
    "    'min_child_weight': 1,\n",
    "\n",
    "    'objective': 'binary:logistic',\n",
    "    'eval_metric': 'auc',\n",
    "    'nthread': 8,\n",
    "    'seed': 1,\n",
    "}\n",
    "\n",
    "model = xgb.train(xgb_params, dtrain,\n",
    "                  num_boost_round=500, verbose_eval=10,\n",
    "                  evals=watchlist)"
   ]
  },
  {
   "cell_type": "code",
   "execution_count": 74,
   "id": "58194a3a",
   "metadata": {
    "scrolled": true
   },
   "outputs": [
    {
     "name": "stdout",
     "output_type": "stream",
     "text": [
      "0.82781\n",
      "(0.82781, 60)\n"
     ]
    }
   ],
   "source": [
    "tree, _, aucs_val_eta_01 = parse_xgb_output(output)\n",
    "print(max(aucs_val_eta_01))\n",
    "print(max(zip(aucs_val_eta_01, tree)))"
   ]
  },
  {
   "cell_type": "code",
   "execution_count": 75,
   "id": "35460692",
   "metadata": {},
   "outputs": [],
   "source": [
    "%%capture output\n",
    "\n",
    "xgb_params = {\n",
    "    'eta': 0.05,\n",
    "    'max_depth': 6,\n",
    "    'min_child_weight': 1,\n",
    "\n",
    "    'objective': 'binary:logistic',\n",
    "    'eval_metric': 'auc',\n",
    "    'nthread': 8,\n",
    "    'seed': 1,\n",
    "}\n",
    "\n",
    "model = xgb.train(xgb_params, dtrain,\n",
    "                  num_boost_round=500, verbose_eval=10,\n",
    "                  evals=watchlist)"
   ]
  },
  {
   "cell_type": "code",
   "execution_count": 76,
   "id": "a857332b",
   "metadata": {},
   "outputs": [
    {
     "name": "stdout",
     "output_type": "stream",
     "text": [
      "0.82819\n",
      "(0.82819, 110)\n"
     ]
    }
   ],
   "source": [
    "tree, _, aucs_val_eta_005 = parse_xgb_output(output)\n",
    "print(max(aucs_val_eta_005))\n",
    "print(max(zip(aucs_val_eta_005, tree)))"
   ]
  },
  {
   "cell_type": "code",
   "execution_count": 77,
   "id": "f71e17bc",
   "metadata": {},
   "outputs": [],
   "source": [
    "%%capture output\n",
    "\n",
    "xgb_params = {\n",
    "    'eta': 0.01,\n",
    "    'max_depth': 6,\n",
    "    'min_child_weight': 1,\n",
    "\n",
    "    'objective': 'binary:logistic',\n",
    "    'eval_metric': 'auc',\n",
    "    'nthread': 8,\n",
    "    'seed': 1,\n",
    "}\n",
    "\n",
    "model = xgb.train(xgb_params, dtrain,\n",
    "                  num_boost_round=500, verbose_eval=10,\n",
    "                  evals=watchlist)"
   ]
  },
  {
   "cell_type": "code",
   "execution_count": 78,
   "id": "4829fec2",
   "metadata": {
    "scrolled": true
   },
   "outputs": [
    {
     "name": "stdout",
     "output_type": "stream",
     "text": [
      "0.82635\n",
      "(0.82635, 499)\n"
     ]
    }
   ],
   "source": [
    "tree, _, aucs_val_eta_001 = parse_xgb_output(output)\n",
    "print(max(aucs_val_eta_001))\n",
    "print(max(zip(aucs_val_eta_001, tree)))"
   ]
  },
  {
   "cell_type": "code",
   "execution_count": 79,
   "id": "75836d6c",
   "metadata": {
    "scrolled": false
   },
   "outputs": [
    {
     "data": {
      "image/png": "[encoded data removed]",
      "text/plain": [
       "<Figure size 600x400 with 1 Axes>"
      ]
     },
     "metadata": {},
     "output_type": "display_data"
    }
   ],
   "source": [
    "plt.figure(figsize=(6, 4))\n",
    "\n",
    "plt.plot(tree, aucs_val_eta_03, color='black', linestyle='solid', label='eta=0.3')\n",
    "plt.plot(tree, aucs_val_eta_01, color='black', linestyle='dashed', label='eta=0.1')\n",
    "# plt.plot(tree, aucs_val_eta_005, color='grey', linestyle='solid', label='eta=0.05')\n",
    "# plt.plot(tree, aucs_val_eta_001, color='grey', linestyle='dashed', label='eta=0.01')\n",
    "\n",
    "plt.xticks(range(0, 501, 100))\n",
    "\n",
    "plt.legend()\n",
    "\n",
    "plt.title('The effect of eta on model performance')\n",
    "plt.xlabel('Number of trees')\n",
    "plt.ylabel('AUC (validation)')\n",
    "\n",
    "# plt.savefig('ch06-figures/06_xgb_eta.svg')\n",
    "\n",
    "plt.show()"
   ]
  },
  {
   "cell_type": "code",
   "execution_count": 80,
   "id": "323ebd87",
   "metadata": {
    "scrolled": false
   },
   "outputs": [
    {
     "data": {
      "image/png": "[encoded data removed]",
      "text/plain": [
       "<Figure size 600x400 with 1 Axes>"
      ]
     },
     "metadata": {},
     "output_type": "display_data"
    }
   ],
   "source": [
    "plt.figure(figsize=(6, 4))\n",
    "\n",
    "plt.plot(tree, aucs_val_eta_01, color='grey', linestyle='dashed', label='eta=0.1')\n",
    "plt.plot(tree, aucs_val_eta_005, color='black', linestyle='solid', label='eta=0.05')\n",
    "plt.plot(tree, aucs_val_eta_001, color='black', linestyle='dashed', label='eta=0.01')\n",
    "\n",
    "plt.xticks(range(0, 501, 100))\n",
    "\n",
    "plt.legend()\n",
    "\n",
    "plt.title('The effect of eta on model performance')\n",
    "plt.xlabel('Number of trees')\n",
    "plt.ylabel('AUC (validation)')\n",
    "\n",
    "# plt.savefig('ch06-figures/06_xgb_eta_2.svg')\n",
    "\n",
    "plt.show()"
   ]
  },
  {
   "cell_type": "markdown",
   "id": "df476ac0",
   "metadata": {},
   "source": [
    "### Parameter tuning: max_depth\n",
    "First, try 3"
   ]
  },
  {
   "cell_type": "code",
   "execution_count": 81,
   "id": "b741f48a",
   "metadata": {},
   "outputs": [],
   "source": [
    "%%capture output\n",
    "\n",
    "xgb_params = {\n",
    "    'eta': 0.1,\n",
    "    'max_depth': 3,\n",
    "    'min_child_weight': 1,\n",
    "\n",
    "    'objective': 'binary:logistic',\n",
    "    'eval_metric': 'auc',\n",
    "    'nthread': 8,\n",
    "    'seed': 1,\n",
    "}\n",
    "\n",
    "model = xgb.train(xgb_params, dtrain,\n",
    "                  num_boost_round=500, verbose_eval=10,\n",
    "                  evals=watchlist)"
   ]
  },
  {
   "cell_type": "code",
   "execution_count": 82,
   "id": "14b6686a",
   "metadata": {
    "scrolled": true
   },
   "outputs": [
    {
     "name": "stdout",
     "output_type": "stream",
     "text": [
      "0.8317\n",
      "(0.8317, 110)\n"
     ]
    }
   ],
   "source": [
    "tree, _, aucs_val_depth3 = parse_xgb_output(output)\n",
    "print(max(aucs_val_depth3))\n",
    "print(max(zip(aucs_val_depth3, tree)))"
   ]
  },
  {
   "cell_type": "code",
   "execution_count": 83,
   "id": "9302b880",
   "metadata": {},
   "outputs": [],
   "source": [
    "%%capture output\n",
    "\n",
    "xgb_params = {\n",
    "    'eta': 0.1,\n",
    "    'max_depth': 10,\n",
    "    'min_child_weight': 1,\n",
    "\n",
    "    'objective': 'binary:logistic',\n",
    "    'eval_metric': 'auc',\n",
    "    'nthread': 8,\n",
    "    'seed': 1,\n",
    "}\n",
    "\n",
    "model = xgb.train(xgb_params, dtrain,\n",
    "                  num_boost_round=500, verbose_eval=10,\n",
    "                  evals=watchlist)"
   ]
  },
  {
   "cell_type": "code",
   "execution_count": 84,
   "id": "9921411d",
   "metadata": {
    "scrolled": true
   },
   "outputs": [
    {
     "name": "stdout",
     "output_type": "stream",
     "text": [
      "0.81729\n",
      "(0.81458, 130)\n"
     ]
    }
   ],
   "source": [
    "tree, _, aucs_val_depth10 = parse_xgb_output(output)\n",
    "print(max(aucs_val))\n",
    "print(max(zip(aucs_val_depth10, tree)))"
   ]
  },
  {
   "cell_type": "markdown",
   "id": "2be6ee35",
   "metadata": {},
   "source": [
    "With depth=3 it's better than depth=6 and depth=10. So let's try 4 to see if it's better than 3"
   ]
  },
  {
   "cell_type": "code",
   "execution_count": 85,
   "id": "c788f1db",
   "metadata": {},
   "outputs": [],
   "source": [
    "%%capture output\n",
    "\n",
    "xgb_params = {\n",
    "    'eta': 0.1,\n",
    "    'max_depth': 4,\n",
    "    'min_child_weight': 1,\n",
    "\n",
    "    'objective': 'binary:logistic',\n",
    "    'eval_metric': 'auc',\n",
    "    'nthread': 8,\n",
    "    'seed': 1,\n",
    "}\n",
    "\n",
    "model = xgb.train(xgb_params, dtrain,\n",
    "                  num_boost_round=500, verbose_eval=10,\n",
    "                  evals=watchlist)"
   ]
  },
  {
   "cell_type": "code",
   "execution_count": 86,
   "id": "be48279c",
   "metadata": {
    "scrolled": true
   },
   "outputs": [
    {
     "name": "stdout",
     "output_type": "stream",
     "text": [
      "0.82952\n",
      "(0.82952, 90)\n"
     ]
    }
   ],
   "source": [
    "tree, _, aucs_val_depth4 = parse_xgb_output(output)\n",
    "print(max(aucs_val_depth4))\n",
    "print(max(zip(aucs_val_depth4, tree)))"
   ]
  },
  {
   "cell_type": "code",
   "execution_count": 87,
   "id": "53b37fad",
   "metadata": {
    "scrolled": false
   },
   "outputs": [
    {
     "data": {
      "image/png": "[encoded data removed]",
      "text/plain": [
       "<Figure size 600x400 with 1 Axes>"
      ]
     },
     "metadata": {},
     "output_type": "display_data"
    }
   ],
   "source": [
    "plt.figure(figsize=(6, 4))\n",
    "\n",
    "plt.plot(tree, aucs_val_depth3, color='black', linestyle='dashed', label='max_depth=3')\n",
    "plt.plot(tree, aucs_val_depth4, color='grey', linestyle='dashed', label='max_depth=4')\n",
    "plt.plot(tree, aucs_val_eta_01, color='black', linestyle='solid', label='max_depth=6')\n",
    "plt.plot(tree, aucs_val_depth10, color='grey', linestyle='solid', label='max_depth=10')\n",
    "\n",
    "plt.ylim(0.75, 0.845)\n",
    "plt.xlim(-10, 510)\n",
    "plt.xticks(range(0, 501, 100))\n",
    "\n",
    "plt.legend()\n",
    "\n",
    "plt.title('The effect of max_depth on model performance')\n",
    "plt.xlabel('Number of trees')\n",
    "plt.ylabel('AUC (validation)')\n",
    "\n",
    "# plt.savefig('ch06-figures/06_xgb_depth.svg')\n",
    "\n",
    "plt.show()"
   ]
  },
  {
   "cell_type": "markdown",
   "id": "58022cfd",
   "metadata": {},
   "source": [
    "It's not better, so we'll leave it at 3\n",
    "\n",
    "### Tune \"min_child_weight\"\n",
    "First, the default value:"
   ]
  },
  {
   "cell_type": "code",
   "execution_count": 88,
   "id": "9c597857",
   "metadata": {},
   "outputs": [],
   "source": [
    "%%capture output\n",
    "\n",
    "xgb_params = {\n",
    "    'eta': 0.1,\n",
    "    'max_depth': 3,\n",
    "    'min_child_weight': 1,\n",
    "\n",
    "    'objective': 'binary:logistic',\n",
    "    'eval_metric': 'auc',\n",
    "    'nthread': 8,\n",
    "    'seed': 1,\n",
    "}\n",
    "\n",
    "model = xgb.train(xgb_params, dtrain,\n",
    "                  num_boost_round=500, verbose_eval=10,\n",
    "                  evals=watchlist)"
   ]
  },
  {
   "cell_type": "code",
   "execution_count": 89,
   "id": "8c752d2a",
   "metadata": {},
   "outputs": [
    {
     "name": "stdout",
     "output_type": "stream",
     "text": [
      "0.8317\n",
      "(0.8317, 110)\n"
     ]
    }
   ],
   "source": [
    "tree, _, aucs_val_mcw1 = parse_xgb_output(output)\n",
    "print(max(aucs_val_mcw1))\n",
    "print(max(zip(aucs_val_mcw1, tree)))"
   ]
  },
  {
   "cell_type": "code",
   "execution_count": 90,
   "id": "ea627173",
   "metadata": {},
   "outputs": [],
   "source": [
    "%%capture output\n",
    "\n",
    "xgb_params = {\n",
    "    'eta': 0.1,\n",
    "    'max_depth': 3,\n",
    "    'min_child_weight': 10,\n",
    "\n",
    "    'objective': 'binary:logistic',\n",
    "    'eval_metric': 'auc',\n",
    "    'nthread': 8,\n",
    "    'seed': 1,\n",
    "}\n",
    "\n",
    "model = xgb.train(xgb_params, dtrain,\n",
    "                  num_boost_round=500, verbose_eval=10,\n",
    "                  evals=watchlist)"
   ]
  },
  {
   "cell_type": "code",
   "execution_count": 91,
   "id": "ed1d0afa",
   "metadata": {
    "scrolled": true
   },
   "outputs": [
    {
     "name": "stdout",
     "output_type": "stream",
     "text": [
      "0.83515\n",
      "(0.83515, 160)\n"
     ]
    }
   ],
   "source": [
    "tree, _, aucs_val_mcw10 = parse_xgb_output(output)\n",
    "print(max(aucs_val_mcw10))\n",
    "print(max(zip(aucs_val_mcw10, tree)))"
   ]
  },
  {
   "cell_type": "code",
   "execution_count": 92,
   "id": "96c757f6",
   "metadata": {},
   "outputs": [],
   "source": [
    "%%capture output\n",
    "\n",
    "xgb_params = {\n",
    "    'eta': 0.1,\n",
    "    'max_depth': 3,\n",
    "    'min_child_weight': 30,\n",
    "\n",
    "    'objective': 'binary:logistic',\n",
    "    'eval_metric': 'auc',\n",
    "    'nthread': 8,\n",
    "    'seed': 1,\n",
    "}\n",
    "\n",
    "model = xgb.train(xgb_params, dtrain,\n",
    "                  num_boost_round=500, verbose_eval=10,\n",
    "                  evals=watchlist)"
   ]
  },
  {
   "cell_type": "code",
   "execution_count": 93,
   "id": "2b0435f2",
   "metadata": {},
   "outputs": [
    {
     "name": "stdout",
     "output_type": "stream",
     "text": [
      "0.83743\n",
      "(0.83743, 160)\n"
     ]
    }
   ],
   "source": [
    "tree, _, aucs_val_mcw30 = parse_xgb_output(output)\n",
    "print(max(aucs_val_mcw30))\n",
    "print(max(zip(aucs_val_mcw30, tree)))"
   ]
  },
  {
   "cell_type": "code",
   "execution_count": 94,
   "id": "74c08001",
   "metadata": {
    "scrolled": false
   },
   "outputs": [
    {
     "data": {
      "image/png": "[encoded data removed]",
      "text/plain": [
       "<Figure size 600x400 with 1 Axes>"
      ]
     },
     "metadata": {},
     "output_type": "display_data"
    }
   ],
   "source": [
    "plt.figure(figsize=(6, 4))\n",
    "\n",
    "plt.plot(tree, aucs_val_mcw1, color='black', linestyle='solid', label='min_child_weight=1')\n",
    "plt.plot(tree, aucs_val_mcw10, color='grey', linestyle='solid', label='min_child_weight=10')\n",
    "plt.plot(tree, aucs_val_mcw30, color='black', linestyle='dashed', label='min_child_weight=30')\n",
    "\n",
    "plt.ylim(0.82, 0.84)\n",
    "plt.xlim(0, 510)\n",
    "plt.xticks(range(0, 501, 100))\n",
    "plt.yticks(np.linspace(0.82, 0.84, 5))\n",
    "\n",
    "plt.legend()\n",
    "\n",
    "plt.title('The effect of min_child_weight on model performance')\n",
    "plt.xlabel('Number of trees')\n",
    "plt.ylabel('AUC (validation)')\n",
    "\n",
    "# plt.savefig('ch06-figures/06_xgb_mcw.svg')\n",
    "\n",
    "plt.show()"
   ]
  },
  {
   "cell_type": "markdown",
   "id": "6a4caaa7",
   "metadata": {},
   "source": [
    "### Checking the best number of trees"
   ]
  },
  {
   "cell_type": "code",
   "execution_count": 95,
   "id": "38debf00",
   "metadata": {},
   "outputs": [],
   "source": [
    "%%capture output\n",
    "\n",
    "xgb_params = {\n",
    "    'eta': 0.1,\n",
    "    'max_depth': 3,\n",
    "    'min_child_weight': 1,\n",
    "\n",
    "    'objective': 'binary:logistic',\n",
    "    'eval_metric': 'auc',\n",
    "    'nthread': 8,\n",
    "    'seed': 1,\n",
    "}\n",
    "\n",
    "model = xgb.train(xgb_params, dtrain,\n",
    "                  num_boost_round=500, verbose_eval=10,\n",
    "                  evals=watchlist)"
   ]
  },
  {
   "cell_type": "code",
   "execution_count": 96,
   "id": "04fe7c74",
   "metadata": {
    "scrolled": false
   },
   "outputs": [
    {
     "name": "stdout",
     "output_type": "stream",
     "text": [
      "[0]\ttrain-auc:0.77610\tval-auc:0.73891\n",
      "[10]\ttrain-auc:0.84675\tval-auc:0.78896\n",
      "[20]\ttrain-auc:0.86931\tval-auc:0.80928\n",
      "[30]\ttrain-auc:0.88080\tval-auc:0.81808\n",
      "[40]\ttrain-auc:0.89038\tval-auc:0.82347\n",
      "[50]\ttrain-auc:0.89756\tval-auc:0.82583\n",
      "[60]\ttrain-auc:0.90319\tval-auc:0.82847\n",
      "[70]\ttrain-auc:0.90768\tval-auc:0.83005\n",
      "[80]\ttrain-auc:0.91221\tval-auc:0.83117\n",
      "[90]\ttrain-auc:0.91638\tval-auc:0.83029\n",
      "[100]\ttrain-auc:0.91913\tval-auc:0.83113\n",
      "[110]\ttrain-auc:0.92297\tval-auc:0.83170\n",
      "[120]\ttrain-auc:0.92544\tval-auc:0.83124\n",
      "[130]\ttrain-auc:0.92789\tval-auc:0.83169\n",
      "[140]\ttrain-auc:0.92996\tval-auc:0.83088\n",
      "[150]\ttrain-auc:0.93200\tval-auc:0.83108\n",
      "[160]\ttrain-auc:0.93416\tval-auc:0.83154\n",
      "[170]\ttrain-auc:0.93638\tval-auc:0.83129\n",
      "[180]\ttrain-auc:0.93842\tval-auc:0.83046\n",
      "[190]\ttrain-auc:0.94005\tval-auc:0.83014\n",
      "[200]\ttrain-auc:0.94181\tval-auc:0.82986\n",
      "[210]\ttrain-auc:0.94374\tval-auc:0.82907\n",
      "[220]\ttrain-auc:0.94529\tval-auc:0.82902\n",
      "[230]\ttrain-auc:0.94725\tval-auc:0.82884\n",
      "[240]\ttrain-auc:0.94840\tval-auc:0.82846\n",
      "[250]\ttrain-auc:0.94951\tval-auc:0.82877\n",
      "[260]\ttrain-auc:0.95073\tval-auc:0.82834\n",
      "[270]\ttrain-auc:0.95199\tval-auc:0.82806\n",
      "[280]\ttrain-auc:0.95356\tval-auc:0.82778\n",
      "[290]\ttrain-auc:0.95489\tval-auc:0.82745\n",
      "[300]\ttrain-auc:0.95627\tval-auc:0.82647\n",
      "[310]\ttrain-auc:0.95734\tval-auc:0.82537\n",
      "[320]\ttrain-auc:0.95867\tval-auc:0.82570\n",
      "[330]\ttrain-auc:0.96006\tval-auc:0.82514\n",
      "[340]\ttrain-auc:0.96159\tval-auc:0.82462\n",
      "[350]\ttrain-auc:0.96267\tval-auc:0.82407\n",
      "[360]\ttrain-auc:0.96369\tval-auc:0.82366\n",
      "[370]\ttrain-auc:0.96509\tval-auc:0.82348\n",
      "[380]\ttrain-auc:0.96601\tval-auc:0.82294\n",
      "[390]\ttrain-auc:0.96664\tval-auc:0.82237\n",
      "[400]\ttrain-auc:0.96762\tval-auc:0.82194\n",
      "[410]\ttrain-auc:0.96848\tval-auc:0.82107\n",
      "[420]\ttrain-auc:0.96911\tval-auc:0.82096\n",
      "[430]\ttrain-auc:0.96971\tval-auc:0.82056\n",
      "[440]\ttrain-auc:0.97047\tval-auc:0.82047\n",
      "[450]\ttrain-auc:0.97151\tval-auc:0.82044\n",
      "[460]\ttrain-auc:0.97257\tval-auc:0.81978\n",
      "[470]\ttrain-auc:0.97331\tval-auc:0.81961\n",
      "[480]\ttrain-auc:0.97418\tval-auc:0.81909\n",
      "[490]\ttrain-auc:0.97476\tval-auc:0.81851\n",
      "[499]\ttrain-auc:0.97545\tval-auc:0.81764\n",
      "\n"
     ]
    }
   ],
   "source": [
    "print(output)"
   ]
  },
  {
   "cell_type": "code",
   "execution_count": 97,
   "id": "cb044b22",
   "metadata": {
    "scrolled": true
   },
   "outputs": [
    {
     "name": "stdout",
     "output_type": "stream",
     "text": [
      "0.8317\n"
     ]
    }
   ],
   "source": [
    "tree, _, aucs_val = parse_xgb_output(output)\n",
    "print(max(aucs_val))"
   ]
  },
  {
   "cell_type": "code",
   "execution_count": 98,
   "id": "2b4c74e5",
   "metadata": {
    "scrolled": true
   },
   "outputs": [
    {
     "data": {
      "text/plain": [
       "(0.8317, 110)"
      ]
     },
     "execution_count": 98,
     "metadata": {},
     "output_type": "execute_result"
    }
   ],
   "source": [
    "max(zip(aucs_val, tree))"
   ]
  },
  {
   "cell_type": "code",
   "execution_count": 99,
   "id": "9ecb20cf",
   "metadata": {
    "scrolled": false
   },
   "outputs": [
    {
     "data": {
      "image/png": "[encoded data removed]",
      "text/plain": [
       "<Figure size 600x400 with 1 Axes>"
      ]
     },
     "metadata": {},
     "output_type": "display_data"
    }
   ],
   "source": [
    "plt.figure(figsize=(6, 4))\n",
    "\n",
    "plt.plot(tree, aucs_val, color='black', linestyle='solid')\n",
    "\n",
    "\n",
    "plt.ylim(0.80, 0.84)\n",
    "plt.xlim(0, 510)\n",
    "plt.xticks(range(0, 501, 100))\n",
    "plt.yticks(np.linspace(0.80, 0.84, 9))\n",
    "\n",
    "\n",
    "plt.vlines(180, 0, 1, color='grey', linestyle='dashed', linewidth=0.9)\n",
    "\n",
    "plt.title('Selecting the number of trees')\n",
    "plt.xlabel('Number of trees')\n",
    "plt.ylabel('AUC (validation)')\n",
    "\n",
    "# plt.savefig('ch06-figures/06_xgb_number_trees.svg')\n",
    "\n",
    "plt.show()"
   ]
  },
  {
   "cell_type": "markdown",
   "id": "47bca969",
   "metadata": {},
   "source": [
    "Final model"
   ]
  },
  {
   "cell_type": "code",
   "execution_count": 100,
   "id": "78680bd5",
   "metadata": {},
   "outputs": [
    {
     "name": "stdout",
     "output_type": "stream",
     "text": [
      "[0]\ttrain-auc:0.77610\tval-auc:0.73891\n",
      "[10]\ttrain-auc:0.84675\tval-auc:0.78896\n",
      "[20]\ttrain-auc:0.86931\tval-auc:0.80928\n",
      "[30]\ttrain-auc:0.88080\tval-auc:0.81808\n",
      "[40]\ttrain-auc:0.89038\tval-auc:0.82347\n",
      "[50]\ttrain-auc:0.89756\tval-auc:0.82583\n",
      "[60]\ttrain-auc:0.90319\tval-auc:0.82847\n",
      "[70]\ttrain-auc:0.90768\tval-auc:0.83005\n",
      "[80]\ttrain-auc:0.91221\tval-auc:0.83117\n",
      "[90]\ttrain-auc:0.91638\tval-auc:0.83029\n",
      "[100]\ttrain-auc:0.91913\tval-auc:0.83113\n",
      "[110]\ttrain-auc:0.92297\tval-auc:0.83170\n",
      "[120]\ttrain-auc:0.92544\tval-auc:0.83124\n",
      "[130]\ttrain-auc:0.92789\tval-auc:0.83169\n",
      "[140]\ttrain-auc:0.92996\tval-auc:0.83088\n",
      "[150]\ttrain-auc:0.93200\tval-auc:0.83108\n",
      "[160]\ttrain-auc:0.93416\tval-auc:0.83154\n",
      "[170]\ttrain-auc:0.93638\tval-auc:0.83129\n",
      "[179]\ttrain-auc:0.93839\tval-auc:0.83048\n"
     ]
    }
   ],
   "source": [
    "xgb_params = {\n",
    "    'eta': 0.1,\n",
    "    'max_depth': 3,\n",
    "    'min_child_weight': 1,\n",
    "\n",
    "    'objective': 'binary:logistic',\n",
    "    'eval_metric': 'auc',\n",
    "    'nthread': 8,\n",
    "    'seed': 1,\n",
    "}\n",
    "\n",
    "model = xgb.train(xgb_params, dtrain,\n",
    "                  num_boost_round=180, verbose_eval=10,\n",
    "                  evals=watchlist)"
   ]
  },
  {
   "cell_type": "code",
   "execution_count": 101,
   "id": "61a583bf",
   "metadata": {},
   "outputs": [],
   "source": [
    "y_pred_xgb = model.predict(dval)"
   ]
  },
  {
   "cell_type": "code",
   "execution_count": 102,
   "id": "f48321f8",
   "metadata": {
    "scrolled": true
   },
   "outputs": [
    {
     "data": {
      "text/plain": [
       "0.8304806132086897"
      ]
     },
     "execution_count": 102,
     "metadata": {},
     "output_type": "execute_result"
    }
   ],
   "source": [
    "roc_auc_score(y_val, y_pred_xgb)"
   ]
  },
  {
   "cell_type": "code",
   "execution_count": 103,
   "id": "211732fd",
   "metadata": {
    "scrolled": true
   },
   "outputs": [
    {
     "name": "stdout",
     "output_type": "stream",
     "text": [
      "0.7852498123077667\n",
      "0.8253826499721489\n",
      "0.8304806132086897\n"
     ]
    }
   ],
   "source": [
    "print(roc_auc_score(y_val, y_pred_dt))\n",
    "print(roc_auc_score(y_val, y_pred_rf))\n",
    "print(roc_auc_score(y_val, y_pred_xgb))"
   ]
  },
  {
   "cell_type": "code",
   "execution_count": 104,
   "id": "8c8c1551",
   "metadata": {},
   "outputs": [
    {
     "data": {
      "image/png": "[encoded data removed]",
      "text/plain": [
       "<Figure size 500x500 with 1 Axes>"
      ]
     },
     "metadata": {},
     "output_type": "display_data"
    }
   ],
   "source": [
    "plt.figure(figsize=(5, 5))\n",
    "\n",
    "fpr, tpr, _ = roc_curve(y_val, y_pred_xgb)\n",
    "plt.plot(fpr, tpr, color='black')\n",
    "\n",
    "fpr, tpr, _ = roc_curve(y_val, y_pred_rf)\n",
    "plt.plot(fpr, tpr, color='grey', linestyle='dashed', alpha=0.9)\n",
    "\n",
    "fpr, tpr, _ = roc_curve(y_val, y_pred_dt)\n",
    "plt.plot(fpr, tpr, color='grey', linestyle='dashed', alpha=0.9)\n",
    "\n",
    "plt.plot([0, 1], [0, 1], color='black', lw=0.7, linestyle='dashed', alpha=0.5)\n",
    "\n",
    "plt.xlim([-0.02, 1.02])\n",
    "plt.ylim([-0.02, 1.02])\n",
    "plt.xlabel('False Positive Rate')\n",
    "plt.ylabel('True Positive Rate')\n",
    "\n",
    "plt.title('ROC curve')\n",
    "\n",
    "plt.show()"
   ]
  },
  {
   "cell_type": "markdown",
   "id": "ad62ae2d",
   "metadata": {},
   "source": [
    "### Final Test"
   ]
  },
  {
   "cell_type": "code",
   "execution_count": 105,
   "id": "4a05868f",
   "metadata": {},
   "outputs": [],
   "source": [
    "y_train_full = (df_train_full.status == 'default').values\n",
    "y_test = (df_test.status == 'default').values\n",
    "\n",
    "del df_train_full['status']\n",
    "del df_test['status']"
   ]
  },
  {
   "cell_type": "code",
   "execution_count": 106,
   "id": "98597572",
   "metadata": {},
   "outputs": [],
   "source": [
    "dict_train_full = df_train_full.fillna(0).to_dict(orient='records')\n",
    "dict_test = df_test.fillna(0).to_dict(orient='records')\n",
    "\n",
    "dv = DictVectorizer(sparse=False)\n",
    "X_train_full = dv.fit_transform(dict_train_full)\n",
    "X_test = dv.transform(dict_test)"
   ]
  },
  {
   "cell_type": "code",
   "execution_count": 107,
   "id": "1b05d08a",
   "metadata": {},
   "outputs": [],
   "source": [
    "rf_final = RandomForestClassifier(n_estimators=200, max_depth=10, min_samples_leaf=5, random_state=1)\n",
    "rf_final.fit(X_train_full, y_train_full)\n",
    "\n",
    "y_pred_rf = rf.predict_proba(X_test)[:, 1]"
   ]
  },
  {
   "cell_type": "code",
   "execution_count": 108,
   "id": "341ab95e",
   "metadata": {},
   "outputs": [],
   "source": [
    "dtrain_full = xgb.DMatrix(X_train_full, label=y_train_full, feature_names=dv.feature_names_)\n",
    "dtest = xgb.DMatrix(X_test, label=y_test, feature_names=dv.feature_names_)\n",
    "\n",
    "xgb_params = {\n",
    "    'eta': 0.1,\n",
    "    'max_depth': 3,\n",
    "    'min_child_weight': 1,\n",
    "\n",
    "    'objective': 'binary:logistic',\n",
    "    'eval_metric': 'auc',\n",
    "    'nthread': 8,\n",
    "    'seed': 1,\n",
    "}\n",
    "\n",
    "num_trees = 160\n",
    "\n",
    "xgb_final = xgb.train(xgb_params, dtrain_full, num_boost_round=num_trees)"
   ]
  },
  {
   "cell_type": "code",
   "execution_count": 109,
   "id": "e65fe515",
   "metadata": {},
   "outputs": [],
   "source": [
    "y_pred_xgb = xgb_final.predict(dtest)"
   ]
  },
  {
   "cell_type": "code",
   "execution_count": 110,
   "id": "2b93af80",
   "metadata": {
    "scrolled": true
   },
   "outputs": [
    {
     "name": "stdout",
     "output_type": "stream",
     "text": [
      "0.8241777039245393\n",
      "0.833634719710669\n"
     ]
    }
   ],
   "source": [
    "print(roc_auc_score(y_test, y_pred_rf))\n",
    "print(roc_auc_score(y_test, y_pred_xgb))"
   ]
  },
  {
   "cell_type": "markdown",
   "id": "fc3a5b11",
   "metadata": {},
   "source": [
    "### Bonus: feature importance\n",
    "\n",
    "#### Decision trees"
   ]
  },
  {
   "cell_type": "code",
   "execution_count": 112,
   "id": "612a9624",
   "metadata": {},
   "outputs": [
    {
     "data": {
      "text/plain": [
       "array([0.01600051, 0.04793733, 0.12051523, 0.00833288, 0.0250906 ,\n",
       "       0.        , 0.        , 0.        , 0.        , 0.        ,\n",
       "       0.        , 0.        , 0.18724799, 0.00699145, 0.        ,\n",
       "       0.        , 0.17292753, 0.        , 0.        , 0.        ,\n",
       "       0.        , 0.        , 0.        , 0.        , 0.0302163 ,\n",
       "       0.        , 0.24421676, 0.12152239, 0.01900104])"
      ]
     },
     "execution_count": 112,
     "metadata": {},
     "output_type": "execute_result"
    }
   ],
   "source": [
    "dt.feature_importances_"
   ]
  },
  {
   "cell_type": "code",
   "execution_count": 113,
   "id": "74142d3c",
   "metadata": {},
   "outputs": [
    {
     "data": {
      "text/plain": [
       "[('age', 0.01600050992990209),\n",
       " ('amount', 0.04793733336664824),\n",
       " ('assets', 0.12051522618539552),\n",
       " ('debt', 0.008332876385504902),\n",
       " ('expenses', 0.025090602575881322),\n",
       " ('home=ignore', 0.0),\n",
       " ('home=other', 0.0),\n",
       " ('home=owner', 0.0),\n",
       " ('home=parents', 0.0),\n",
       " ('home=private', 0.0),\n",
       " ('home=rent', 0.0),\n",
       " ('home=unk', 0.0),\n",
       " ('income', 0.18724798934476602),\n",
       " ('job=fixed', 0.006991445659436667),\n",
       " ('job=freelance', 0.0),\n",
       " ('job=others', 0.0),\n",
       " ('job=partime', 0.17292752964348085),\n",
       " ('job=unk', 0.0),\n",
       " ('marital=divorced', 0.0),\n",
       " ('marital=married', 0.0),\n",
       " ('marital=separated', 0.0),\n",
       " ('marital=single', 0.0),\n",
       " ('marital=unk', 0.0),\n",
       " ('marital=widow', 0.0),\n",
       " ('price', 0.030216298419676543),\n",
       " ('records=no', 0.0),\n",
       " ('records=yes', 0.24421675762093445),\n",
       " ('seniority', 0.12152238957522045),\n",
       " ('time', 0.019001041293152915)]"
      ]
     },
     "execution_count": 113,
     "metadata": {},
     "output_type": "execute_result"
    }
   ],
   "source": [
    "list(zip(dv.feature_names_, dt.feature_importances_))"
   ]
  },
  {
   "cell_type": "code",
   "execution_count": 114,
   "id": "694a95fb",
   "metadata": {},
   "outputs": [
    {
     "data": {
      "text/html": [
       "<div>\n",
       "<style scoped>\n",
       "    .dataframe tbody tr th:only-of-type {\n",
       "        vertical-align: middle;\n",
       "    }\n",
       "\n",
       "    .dataframe tbody tr th {\n",
       "        vertical-align: top;\n",
       "    }\n",
       "\n",
       "    .dataframe thead th {\n",
       "        text-align: right;\n",
       "    }\n",
       "</style>\n",
       "<table border=\"1\" class=\"dataframe\">\n",
       "  <thead>\n",
       "    <tr style=\"text-align: right;\">\n",
       "      <th></th>\n",
       "      <th>feature</th>\n",
       "      <th>gain</th>\n",
       "    </tr>\n",
       "  </thead>\n",
       "  <tbody>\n",
       "    <tr>\n",
       "      <th>26</th>\n",
       "      <td>records=yes</td>\n",
       "      <td>0.244217</td>\n",
       "    </tr>\n",
       "    <tr>\n",
       "      <th>12</th>\n",
       "      <td>income</td>\n",
       "      <td>0.187248</td>\n",
       "    </tr>\n",
       "    <tr>\n",
       "      <th>16</th>\n",
       "      <td>job=partime</td>\n",
       "      <td>0.172928</td>\n",
       "    </tr>\n",
       "    <tr>\n",
       "      <th>27</th>\n",
       "      <td>seniority</td>\n",
       "      <td>0.121522</td>\n",
       "    </tr>\n",
       "    <tr>\n",
       "      <th>2</th>\n",
       "      <td>assets</td>\n",
       "      <td>0.120515</td>\n",
       "    </tr>\n",
       "    <tr>\n",
       "      <th>1</th>\n",
       "      <td>amount</td>\n",
       "      <td>0.047937</td>\n",
       "    </tr>\n",
       "    <tr>\n",
       "      <th>24</th>\n",
       "      <td>price</td>\n",
       "      <td>0.030216</td>\n",
       "    </tr>\n",
       "    <tr>\n",
       "      <th>4</th>\n",
       "      <td>expenses</td>\n",
       "      <td>0.025091</td>\n",
       "    </tr>\n",
       "    <tr>\n",
       "      <th>28</th>\n",
       "      <td>time</td>\n",
       "      <td>0.019001</td>\n",
       "    </tr>\n",
       "    <tr>\n",
       "      <th>0</th>\n",
       "      <td>age</td>\n",
       "      <td>0.016001</td>\n",
       "    </tr>\n",
       "    <tr>\n",
       "      <th>3</th>\n",
       "      <td>debt</td>\n",
       "      <td>0.008333</td>\n",
       "    </tr>\n",
       "    <tr>\n",
       "      <th>13</th>\n",
       "      <td>job=fixed</td>\n",
       "      <td>0.006991</td>\n",
       "    </tr>\n",
       "    <tr>\n",
       "      <th>10</th>\n",
       "      <td>home=rent</td>\n",
       "      <td>0.000000</td>\n",
       "    </tr>\n",
       "    <tr>\n",
       "      <th>20</th>\n",
       "      <td>marital=separated</td>\n",
       "      <td>0.000000</td>\n",
       "    </tr>\n",
       "    <tr>\n",
       "      <th>5</th>\n",
       "      <td>home=ignore</td>\n",
       "      <td>0.000000</td>\n",
       "    </tr>\n",
       "    <tr>\n",
       "      <th>25</th>\n",
       "      <td>records=no</td>\n",
       "      <td>0.000000</td>\n",
       "    </tr>\n",
       "    <tr>\n",
       "      <th>6</th>\n",
       "      <td>home=other</td>\n",
       "      <td>0.000000</td>\n",
       "    </tr>\n",
       "    <tr>\n",
       "      <th>23</th>\n",
       "      <td>marital=widow</td>\n",
       "      <td>0.000000</td>\n",
       "    </tr>\n",
       "    <tr>\n",
       "      <th>22</th>\n",
       "      <td>marital=unk</td>\n",
       "      <td>0.000000</td>\n",
       "    </tr>\n",
       "    <tr>\n",
       "      <th>21</th>\n",
       "      <td>marital=single</td>\n",
       "      <td>0.000000</td>\n",
       "    </tr>\n",
       "    <tr>\n",
       "      <th>19</th>\n",
       "      <td>marital=married</td>\n",
       "      <td>0.000000</td>\n",
       "    </tr>\n",
       "    <tr>\n",
       "      <th>11</th>\n",
       "      <td>home=unk</td>\n",
       "      <td>0.000000</td>\n",
       "    </tr>\n",
       "    <tr>\n",
       "      <th>18</th>\n",
       "      <td>marital=divorced</td>\n",
       "      <td>0.000000</td>\n",
       "    </tr>\n",
       "    <tr>\n",
       "      <th>17</th>\n",
       "      <td>job=unk</td>\n",
       "      <td>0.000000</td>\n",
       "    </tr>\n",
       "    <tr>\n",
       "      <th>7</th>\n",
       "      <td>home=owner</td>\n",
       "      <td>0.000000</td>\n",
       "    </tr>\n",
       "    <tr>\n",
       "      <th>15</th>\n",
       "      <td>job=others</td>\n",
       "      <td>0.000000</td>\n",
       "    </tr>\n",
       "    <tr>\n",
       "      <th>8</th>\n",
       "      <td>home=parents</td>\n",
       "      <td>0.000000</td>\n",
       "    </tr>\n",
       "    <tr>\n",
       "      <th>9</th>\n",
       "      <td>home=private</td>\n",
       "      <td>0.000000</td>\n",
       "    </tr>\n",
       "    <tr>\n",
       "      <th>14</th>\n",
       "      <td>job=freelance</td>\n",
       "      <td>0.000000</td>\n",
       "    </tr>\n",
       "  </tbody>\n",
       "</table>\n",
       "</div>"
      ],
      "text/plain": [
       "              feature      gain\n",
       "26        records=yes  0.244217\n",
       "12             income  0.187248\n",
       "16        job=partime  0.172928\n",
       "27          seniority  0.121522\n",
       "2              assets  0.120515\n",
       "1              amount  0.047937\n",
       "24              price  0.030216\n",
       "4            expenses  0.025091\n",
       "28               time  0.019001\n",
       "0                 age  0.016001\n",
       "3                debt  0.008333\n",
       "13          job=fixed  0.006991\n",
       "10          home=rent  0.000000\n",
       "20  marital=separated  0.000000\n",
       "5         home=ignore  0.000000\n",
       "25         records=no  0.000000\n",
       "6          home=other  0.000000\n",
       "23      marital=widow  0.000000\n",
       "22        marital=unk  0.000000\n",
       "21     marital=single  0.000000\n",
       "19    marital=married  0.000000\n",
       "11           home=unk  0.000000\n",
       "18   marital=divorced  0.000000\n",
       "17            job=unk  0.000000\n",
       "7          home=owner  0.000000\n",
       "15         job=others  0.000000\n",
       "8        home=parents  0.000000\n",
       "9        home=private  0.000000\n",
       "14      job=freelance  0.000000"
      ]
     },
     "execution_count": 114,
     "metadata": {},
     "output_type": "execute_result"
    }
   ],
   "source": [
    "importances = list(zip(dv.feature_names_, dt.feature_importances_))\n",
    "\n",
    "df_importance = pd.DataFrame(importances, columns=['feature', 'gain'])\n",
    "df_importance = df_importance.sort_values(by='gain', ascending=False)\n",
    "df_importance"
   ]
  },
  {
   "cell_type": "code",
   "execution_count": 115,
   "id": "75ea17e1",
   "metadata": {},
   "outputs": [],
   "source": [
    "df_importance = df_importance[df_importance.gain > 0]"
   ]
  },
  {
   "cell_type": "code",
   "execution_count": 116,
   "id": "e5753d12",
   "metadata": {},
   "outputs": [
    {
     "data": {
      "image/png": "[encoded data removed]",
      "text/plain": [
       "<Figure size 640x480 with 1 Axes>"
      ]
     },
     "metadata": {},
     "output_type": "display_data"
    }
   ],
   "source": [
    "num = len(df_importance)\n",
    "plt.barh(range(num), df_importance.gain[::-1])\n",
    "plt.yticks(range(num), df_importance.feature[::-1])\n",
    "\n",
    "plt.show()"
   ]
  },
  {
   "cell_type": "markdown",
   "id": "9cc1407c",
   "metadata": {},
   "source": [
    "### Random forest"
   ]
  },
  {
   "cell_type": "code",
   "execution_count": 117,
   "id": "95e6f7b0",
   "metadata": {},
   "outputs": [
    {
     "data": {
      "text/plain": [
       "array([5.81509463e-02, 8.42444361e-02, 7.75901403e-02, 1.33739427e-02,\n",
       "       3.62995916e-02, 1.26998064e-06, 5.25854792e-03, 2.57383446e-02,\n",
       "       8.51497558e-03, 3.24437831e-03, 1.44619658e-02, 0.00000000e+00,\n",
       "       1.50682384e-01, 4.78310889e-02, 9.96408243e-03, 2.85512508e-03,\n",
       "       5.65260797e-02, 0.00000000e+00, 2.43128646e-04, 6.42996557e-03,\n",
       "       1.68784119e-03, 6.67458246e-03, 0.00000000e+00, 1.97498337e-04,\n",
       "       6.62193254e-02, 8.41683921e-02, 8.30420483e-02, 1.25453198e-01,\n",
       "       3.11467205e-02])"
      ]
     },
     "execution_count": 117,
     "metadata": {},
     "output_type": "execute_result"
    }
   ],
   "source": [
    "rf.feature_importances_"
   ]
  },
  {
   "cell_type": "code",
   "execution_count": 118,
   "id": "61fad750",
   "metadata": {},
   "outputs": [
    {
     "data": {
      "text/html": [
       "<div>\n",
       "<style scoped>\n",
       "    .dataframe tbody tr th:only-of-type {\n",
       "        vertical-align: middle;\n",
       "    }\n",
       "\n",
       "    .dataframe tbody tr th {\n",
       "        vertical-align: top;\n",
       "    }\n",
       "\n",
       "    .dataframe thead th {\n",
       "        text-align: right;\n",
       "    }\n",
       "</style>\n",
       "<table border=\"1\" class=\"dataframe\">\n",
       "  <thead>\n",
       "    <tr style=\"text-align: right;\">\n",
       "      <th></th>\n",
       "      <th>feature</th>\n",
       "      <th>gain</th>\n",
       "    </tr>\n",
       "  </thead>\n",
       "  <tbody>\n",
       "    <tr>\n",
       "      <th>12</th>\n",
       "      <td>income</td>\n",
       "      <td>0.150682</td>\n",
       "    </tr>\n",
       "    <tr>\n",
       "      <th>27</th>\n",
       "      <td>seniority</td>\n",
       "      <td>0.125453</td>\n",
       "    </tr>\n",
       "    <tr>\n",
       "      <th>1</th>\n",
       "      <td>amount</td>\n",
       "      <td>0.084244</td>\n",
       "    </tr>\n",
       "    <tr>\n",
       "      <th>25</th>\n",
       "      <td>records=no</td>\n",
       "      <td>0.084168</td>\n",
       "    </tr>\n",
       "    <tr>\n",
       "      <th>26</th>\n",
       "      <td>records=yes</td>\n",
       "      <td>0.083042</td>\n",
       "    </tr>\n",
       "    <tr>\n",
       "      <th>2</th>\n",
       "      <td>assets</td>\n",
       "      <td>0.077590</td>\n",
       "    </tr>\n",
       "    <tr>\n",
       "      <th>24</th>\n",
       "      <td>price</td>\n",
       "      <td>0.066219</td>\n",
       "    </tr>\n",
       "    <tr>\n",
       "      <th>0</th>\n",
       "      <td>age</td>\n",
       "      <td>0.058151</td>\n",
       "    </tr>\n",
       "    <tr>\n",
       "      <th>16</th>\n",
       "      <td>job=partime</td>\n",
       "      <td>0.056526</td>\n",
       "    </tr>\n",
       "    <tr>\n",
       "      <th>13</th>\n",
       "      <td>job=fixed</td>\n",
       "      <td>0.047831</td>\n",
       "    </tr>\n",
       "    <tr>\n",
       "      <th>4</th>\n",
       "      <td>expenses</td>\n",
       "      <td>0.036300</td>\n",
       "    </tr>\n",
       "    <tr>\n",
       "      <th>28</th>\n",
       "      <td>time</td>\n",
       "      <td>0.031147</td>\n",
       "    </tr>\n",
       "    <tr>\n",
       "      <th>7</th>\n",
       "      <td>home=owner</td>\n",
       "      <td>0.025738</td>\n",
       "    </tr>\n",
       "    <tr>\n",
       "      <th>10</th>\n",
       "      <td>home=rent</td>\n",
       "      <td>0.014462</td>\n",
       "    </tr>\n",
       "    <tr>\n",
       "      <th>3</th>\n",
       "      <td>debt</td>\n",
       "      <td>0.013374</td>\n",
       "    </tr>\n",
       "    <tr>\n",
       "      <th>14</th>\n",
       "      <td>job=freelance</td>\n",
       "      <td>0.009964</td>\n",
       "    </tr>\n",
       "    <tr>\n",
       "      <th>8</th>\n",
       "      <td>home=parents</td>\n",
       "      <td>0.008515</td>\n",
       "    </tr>\n",
       "    <tr>\n",
       "      <th>21</th>\n",
       "      <td>marital=single</td>\n",
       "      <td>0.006675</td>\n",
       "    </tr>\n",
       "    <tr>\n",
       "      <th>19</th>\n",
       "      <td>marital=married</td>\n",
       "      <td>0.006430</td>\n",
       "    </tr>\n",
       "    <tr>\n",
       "      <th>6</th>\n",
       "      <td>home=other</td>\n",
       "      <td>0.005259</td>\n",
       "    </tr>\n",
       "    <tr>\n",
       "      <th>9</th>\n",
       "      <td>home=private</td>\n",
       "      <td>0.003244</td>\n",
       "    </tr>\n",
       "    <tr>\n",
       "      <th>15</th>\n",
       "      <td>job=others</td>\n",
       "      <td>0.002855</td>\n",
       "    </tr>\n",
       "    <tr>\n",
       "      <th>20</th>\n",
       "      <td>marital=separated</td>\n",
       "      <td>0.001688</td>\n",
       "    </tr>\n",
       "    <tr>\n",
       "      <th>18</th>\n",
       "      <td>marital=divorced</td>\n",
       "      <td>0.000243</td>\n",
       "    </tr>\n",
       "    <tr>\n",
       "      <th>23</th>\n",
       "      <td>marital=widow</td>\n",
       "      <td>0.000197</td>\n",
       "    </tr>\n",
       "    <tr>\n",
       "      <th>5</th>\n",
       "      <td>home=ignore</td>\n",
       "      <td>0.000001</td>\n",
       "    </tr>\n",
       "    <tr>\n",
       "      <th>22</th>\n",
       "      <td>marital=unk</td>\n",
       "      <td>0.000000</td>\n",
       "    </tr>\n",
       "    <tr>\n",
       "      <th>17</th>\n",
       "      <td>job=unk</td>\n",
       "      <td>0.000000</td>\n",
       "    </tr>\n",
       "    <tr>\n",
       "      <th>11</th>\n",
       "      <td>home=unk</td>\n",
       "      <td>0.000000</td>\n",
       "    </tr>\n",
       "  </tbody>\n",
       "</table>\n",
       "</div>"
      ],
      "text/plain": [
       "              feature      gain\n",
       "12             income  0.150682\n",
       "27          seniority  0.125453\n",
       "1              amount  0.084244\n",
       "25         records=no  0.084168\n",
       "26        records=yes  0.083042\n",
       "2              assets  0.077590\n",
       "24              price  0.066219\n",
       "0                 age  0.058151\n",
       "16        job=partime  0.056526\n",
       "13          job=fixed  0.047831\n",
       "4            expenses  0.036300\n",
       "28               time  0.031147\n",
       "7          home=owner  0.025738\n",
       "10          home=rent  0.014462\n",
       "3                debt  0.013374\n",
       "14      job=freelance  0.009964\n",
       "8        home=parents  0.008515\n",
       "21     marital=single  0.006675\n",
       "19    marital=married  0.006430\n",
       "6          home=other  0.005259\n",
       "9        home=private  0.003244\n",
       "15         job=others  0.002855\n",
       "20  marital=separated  0.001688\n",
       "18   marital=divorced  0.000243\n",
       "23      marital=widow  0.000197\n",
       "5         home=ignore  0.000001\n",
       "22        marital=unk  0.000000\n",
       "17            job=unk  0.000000\n",
       "11           home=unk  0.000000"
      ]
     },
     "execution_count": 118,
     "metadata": {},
     "output_type": "execute_result"
    }
   ],
   "source": [
    "importances = list(zip(dv.feature_names_, rf.feature_importances_))\n",
    "\n",
    "df_importance = pd.DataFrame(importances, columns=['feature', 'gain'])\n",
    "df_importance = df_importance.sort_values(by='gain', ascending=False)\n",
    "df_importance"
   ]
  },
  {
   "cell_type": "code",
   "execution_count": 119,
   "id": "86a310f8",
   "metadata": {},
   "outputs": [],
   "source": [
    "df_importance = df_importance[df_importance.gain > 0.01]"
   ]
  },
  {
   "cell_type": "code",
   "execution_count": 120,
   "id": "de16c4c3",
   "metadata": {},
   "outputs": [
    {
     "data": {
      "image/png": "[encoded data removed]",
      "text/plain": [
       "<Figure size 640x480 with 1 Axes>"
      ]
     },
     "metadata": {},
     "output_type": "display_data"
    }
   ],
   "source": [
    "num = len(df_importance)\n",
    "plt.barh(range(num), df_importance.gain[::-1])\n",
    "plt.yticks(range(num), df_importance.feature[::-1])\n",
    "\n",
    "plt.show()"
   ]
  },
  {
   "cell_type": "markdown",
   "id": "2f3579e5",
   "metadata": {},
   "source": [
    "### XGBoost"
   ]
  },
  {
   "cell_type": "code",
   "execution_count": 121,
   "id": "301b8143",
   "metadata": {},
   "outputs": [
    {
     "data": {
      "text/plain": [
       "[('records=no', 22.24321746826172),\n",
       " ('job=fixed', 21.592741012573242),\n",
       " ('job=partime', 16.440664291381836),\n",
       " ('seniority', 11.689960479736328),\n",
       " ('income', 8.1557035446167),\n",
       " ('home=owner', 6.669165134429932),\n",
       " ('assets', 6.5446906089782715),\n",
       " ('amount', 5.51829719543457),\n",
       " ('home=parents', 5.010105133056641),\n",
       " ('home=rent', 4.2977776527404785),\n",
       " ('time', 4.0505523681640625),\n",
       " ('price', 3.603771686553955),\n",
       " ('expenses', 3.6012556552886963),\n",
       " ('age', 3.2517170906066895),\n",
       " ('marital=married', 2.872762441635132),\n",
       " ('home=private', 2.719832181930542),\n",
       " ('marital=separated', 2.450335741043091),\n",
       " ('debt', 2.4464755058288574),\n",
       " ('job=others', 2.156588315963745),\n",
       " ('home=other', 2.070114850997925),\n",
       " ('job=freelance', 2.017198085784912),\n",
       " ('marital=divorced', 0.7956474423408508),\n",
       " ('home=ignore', 0.7399988174438477)]"
      ]
     },
     "execution_count": 121,
     "metadata": {},
     "output_type": "execute_result"
    }
   ],
   "source": [
    "scores = model.get_score(importance_type='gain')\n",
    "scores = sorted(scores.items(), key=lambda x: x[1])\n",
    "list(reversed(scores))"
   ]
  },
  {
   "cell_type": "code",
   "execution_count": 122,
   "id": "1cedb3b7",
   "metadata": {},
   "outputs": [
    {
     "data": {
      "text/plain": [
       "[('price', 174.0),\n",
       " ('amount', 157.0),\n",
       " ('income', 141.0),\n",
       " ('assets', 125.0),\n",
       " ('age', 123.0),\n",
       " ('seniority', 118.0),\n",
       " ('expenses', 86.0),\n",
       " ('records=no', 57.0),\n",
       " ('debt', 54.0),\n",
       " ('time', 35.0),\n",
       " ('job=partime', 23.0),\n",
       " ('home=parents', 19.0),\n",
       " ('marital=separated', 15.0),\n",
       " ('job=fixed', 14.0),\n",
       " ('home=rent', 12.0),\n",
       " ('home=private', 12.0),\n",
       " ('home=owner', 11.0),\n",
       " ('marital=married', 9.0),\n",
       " ('home=other', 6.0),\n",
       " ('home=ignore', 4.0),\n",
       " ('job=freelance', 3.0),\n",
       " ('marital=divorced', 2.0),\n",
       " ('job=others', 2.0)]"
      ]
     },
     "execution_count": 122,
     "metadata": {},
     "output_type": "execute_result"
    }
   ],
   "source": [
    "scores = model.get_score(importance_type='weight')\n",
    "scores = sorted(scores.items(), key=lambda x: x[1])\n",
    "list(reversed(scores))"
   ]
  },
  {
   "cell_type": "code",
   "execution_count": 123,
   "id": "acf22cdd",
   "metadata": {},
   "outputs": [],
   "source": [
    "names = [n for (n, s) in scores]\n",
    "scores = [s for (n, s) in scores]"
   ]
  },
  {
   "cell_type": "code",
   "execution_count": 124,
   "id": "20cbc5ec",
   "metadata": {},
   "outputs": [
    {
     "data": {
      "image/png": "[encoded data removed]",
      "text/plain": [
       "<Figure size 600x800 with 1 Axes>"
      ]
     },
     "metadata": {},
     "output_type": "display_data"
    }
   ],
   "source": [
    "plt.figure(figsize=(6, 8))\n",
    "\n",
    "plt.barh(np.arange(len(scores)), scores)\n",
    "plt.yticks(np.arange(len(names)), names)\n",
    "\n",
    "plt.show()"
   ]
  },
  {
   "cell_type": "markdown",
   "id": "c8b172c2",
   "metadata": {},
   "source": [
    "### Bonus: Extremely randomized trees\n",
    "\n",
    "Similar to random forest, but more random. Instead of selecting the best split among all posible splits, ET picks a few candidate splits at random and then select the best one among them."
   ]
  },
  {
   "cell_type": "code",
   "execution_count": 125,
   "id": "00c3503a",
   "metadata": {},
   "outputs": [],
   "source": [
    "from sklearn.ensemble import ExtraTreesClassifier"
   ]
  },
  {
   "cell_type": "code",
   "execution_count": 126,
   "id": "b54510b6",
   "metadata": {},
   "outputs": [
    {
     "name": "stdout",
     "output_type": "stream",
     "text": [
      "10 -> 0.759\n",
      "20 -> 0.783\n",
      "30 -> 0.781\n",
      "40 -> 0.784\n",
      "50 -> 0.790\n",
      "60 -> 0.790\n",
      "70 -> 0.797\n",
      "80 -> 0.788\n",
      "90 -> 0.783\n",
      "100 -> 0.793\n",
      "110 -> 0.794\n",
      "120 -> 0.795\n",
      "130 -> 0.798\n",
      "140 -> 0.794\n",
      "150 -> 0.797\n",
      "160 -> 0.796\n",
      "170 -> 0.796\n",
      "180 -> 0.795\n",
      "190 -> 0.799\n",
      "200 -> 0.799\n"
     ]
    }
   ],
   "source": [
    "aucs = []\n",
    "\n",
    "for i in range(10, 201, 10):\n",
    "    rf = ExtraTreesClassifier(n_estimators=i, max_depth=30)\n",
    "    rf.fit(X_train, y_train)\n",
    "    y_pred = rf.predict_proba(X_val)[:, 1]\n",
    "    auc = roc_auc_score(y_val, y_pred)\n",
    "    print('%s -> %.3f' % (i, auc))\n",
    "    aucs.append(auc)"
   ]
  }
 ],
 "metadata": {
  "kernelspec": {
   "display_name": "Python 3 (ipykernel)",
   "language": "python",
   "name": "python3"
  },
  "language_info": {
   "codemirror_mode": {
    "name": "ipython",
    "version": 3
   },
   "file_extension": ".py",
   "mimetype": "text/x-python",
   "name": "python",
   "nbconvert_exporter": "python",
   "pygments_lexer": "ipython3",
   "version": "3.9.18"
  }
 },
 "nbformat": 4,
 "nbformat_minor": 5
}

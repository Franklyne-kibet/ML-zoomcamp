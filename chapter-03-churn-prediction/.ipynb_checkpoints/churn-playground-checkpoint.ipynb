{
 "cells": [
  {
   "cell_type": "code",
   "execution_count": null,
   "id": "34fda25d",
   "metadata": {},
   "outputs": [],
   "source": [
    "import pandas as pd\n",
    "import numpy as np\n",
    "\n",
    "import seaborn as sns\n",
    "from matplotlib import pyplot as plt\n",
    "%matplotlib inline"
   ]
  },
  {
   "cell_type": "markdown",
   "id": "df765bf2",
   "metadata": {},
   "source": [
    "### Data Preparation"
   ]
  },
  {
   "cell_type": "code",
   "execution_count": null,
   "id": "0698e219",
   "metadata": {},
   "outputs": [],
   "source": [
    "df = pd.read_csv('data-week-3.csv')\n",
    "df.head()"
   ]
  },
  {
   "cell_type": "code",
   "execution_count": null,
   "id": "b773a438",
   "metadata": {},
   "outputs": [],
   "source": [
    "df.columns = df.columns.str.lower().str.replace(' ', '_')\n",
    "\n",
    "categorical_columns = list(df.dtypes[df.dtypes == 'object'].index)\n",
    "\n",
    "for c in categorical_columns:\n",
    "    df[c] = df[c].str.lower().str.replace(' ', '_')"
   ]
  },
  {
   "cell_type": "code",
   "execution_count": null,
   "id": "e2e4eafe",
   "metadata": {
    "scrolled": true
   },
   "outputs": [],
   "source": [
    "df.head().T"
   ]
  },
  {
   "cell_type": "code",
   "execution_count": null,
   "id": "5c8eac3a",
   "metadata": {
    "scrolled": true
   },
   "outputs": [],
   "source": [
    "tc = pd.to_numeric(df.totalcharges, errors='coerce')"
   ]
  },
  {
   "cell_type": "code",
   "execution_count": null,
   "id": "68571e03",
   "metadata": {},
   "outputs": [],
   "source": [
    "df.totalcharges = pd.to_numeric(df.totalcharges, errors='coerce')"
   ]
  },
  {
   "cell_type": "code",
   "execution_count": null,
   "id": "2be2eaab",
   "metadata": {},
   "outputs": [],
   "source": [
    "df.totalcharges = df.totalcharges.fillna(0)"
   ]
  },
  {
   "cell_type": "code",
   "execution_count": null,
   "id": "0f02d0ea",
   "metadata": {
    "scrolled": true
   },
   "outputs": [],
   "source": [
    "df.churn = (df.churn == 'yes').astype(int)"
   ]
  },
  {
   "cell_type": "markdown",
   "id": "aecf5ead",
   "metadata": {},
   "source": [
    "### Setting up the validation Framework\n",
    "- Perform the train/validation/test split with Scikit-Learn"
   ]
  },
  {
   "cell_type": "code",
   "execution_count": null,
   "id": "7aec7dbd",
   "metadata": {},
   "outputs": [],
   "source": [
    "from sklearn.model_selection import train_test_split"
   ]
  },
  {
   "cell_type": "code",
   "execution_count": null,
   "id": "17b9d964",
   "metadata": {},
   "outputs": [],
   "source": [
    "df_full_train, df_test = train_test_split(df, test_size=0.2, random_state=1)"
   ]
  },
  {
   "cell_type": "code",
   "execution_count": null,
   "id": "0a3fd085",
   "metadata": {
    "scrolled": true
   },
   "outputs": [],
   "source": [
    "len(df_full_train), len(df_test)"
   ]
  },
  {
   "cell_type": "code",
   "execution_count": null,
   "id": "e2435bfc",
   "metadata": {},
   "outputs": [],
   "source": [
    "df_train, df_val = train_test_split(df_full_train, test_size=0.25, random_state=1)"
   ]
  },
  {
   "cell_type": "code",
   "execution_count": null,
   "id": "57df2f06",
   "metadata": {
    "scrolled": true
   },
   "outputs": [],
   "source": [
    "len(df_train), len(df_val), len(df_test)"
   ]
  },
  {
   "cell_type": "code",
   "execution_count": null,
   "id": "d6a29c9c",
   "metadata": {},
   "outputs": [],
   "source": [
    "df_train = df_train.reset_index(drop=True)\n",
    "df_val = df_val.reset_index(drop=True)\n",
    "df_test = df_test.reset_index(drop=True)"
   ]
  },
  {
   "cell_type": "code",
   "execution_count": null,
   "id": "cc087118",
   "metadata": {},
   "outputs": [],
   "source": [
    "y_train = df_train.churn.values\n",
    "y_val = df_val.churn.values\n",
    "y_test = df_test.churn.values"
   ]
  },
  {
   "cell_type": "code",
   "execution_count": null,
   "id": "272281cf",
   "metadata": {},
   "outputs": [],
   "source": [
    "del df_train['churn']\n",
    "del df_val['churn']\n",
    "del df_test['churn']"
   ]
  },
  {
   "cell_type": "markdown",
   "id": "e3c9d4bd",
   "metadata": {},
   "source": [
    "### EDA\n",
    "- Check missing values\n",
    "- Look at the target variable(churn)\n",
    "- Look at numerical and categorical variables"
   ]
  },
  {
   "cell_type": "code",
   "execution_count": null,
   "id": "54c46f92",
   "metadata": {},
   "outputs": [],
   "source": [
    "df_full_train = df_full_train.reset_index(drop=True)"
   ]
  },
  {
   "cell_type": "code",
   "execution_count": null,
   "id": "f68a2f00",
   "metadata": {
    "scrolled": true
   },
   "outputs": [],
   "source": [
    "df_full_train.churn.value_counts(normalize=True)"
   ]
  },
  {
   "cell_type": "code",
   "execution_count": null,
   "id": "168c9015",
   "metadata": {},
   "outputs": [],
   "source": [
    "global_churn_rate = df_full_train.churn.mean()\n",
    "round(global_churn_rate, 2)"
   ]
  },
  {
   "cell_type": "code",
   "execution_count": null,
   "id": "1c69755f",
   "metadata": {},
   "outputs": [],
   "source": [
    "numerical = ['tenure', 'monthlycharges', 'totalcharges']"
   ]
  },
  {
   "cell_type": "code",
   "execution_count": null,
   "id": "d66e107a",
   "metadata": {},
   "outputs": [],
   "source": [
    "df_full_train.columns"
   ]
  },
  {
   "cell_type": "code",
   "execution_count": null,
   "id": "ac4157ca",
   "metadata": {},
   "outputs": [],
   "source": [
    "categorical = ['gender', 'seniorcitizen', 'partner', 'dependents',\n",
    "       'phoneservice', 'multiplelines', 'internetservice',\n",
    "       'onlinesecurity', 'onlinebackup', 'deviceprotection', 'techsupport',\n",
    "       'streamingtv', 'streamingmovies', 'contract', 'paperlessbilling',\n",
    "       'paymentmethod']"
   ]
  },
  {
   "cell_type": "code",
   "execution_count": null,
   "id": "7da5b82e",
   "metadata": {
    "scrolled": true
   },
   "outputs": [],
   "source": [
    "df_full_train[categorical].nunique()"
   ]
  },
  {
   "cell_type": "markdown",
   "id": "e477f416",
   "metadata": {},
   "source": [
    "  ### Churn Rate"
   ]
  },
  {
   "cell_type": "code",
   "execution_count": null,
   "id": "f89db98a",
   "metadata": {
    "scrolled": true
   },
   "outputs": [],
   "source": [
    "df_full_train.head()"
   ]
  },
  {
   "cell_type": "code",
   "execution_count": null,
   "id": "7155e06e",
   "metadata": {
    "scrolled": true
   },
   "outputs": [],
   "source": [
    "churn_female = df_full_train[df_full_train.gender == 'female'].churn.mean()\n",
    "churn_female "
   ]
  },
  {
   "cell_type": "code",
   "execution_count": null,
   "id": "74fbc5cd",
   "metadata": {
    "scrolled": true
   },
   "outputs": [],
   "source": [
    "churn_male = df_full_train[df_full_train.gender == 'male'].churn.mean()\n",
    "churn_male "
   ]
  },
  {
   "cell_type": "code",
   "execution_count": null,
   "id": "f2444a9f",
   "metadata": {},
   "outputs": [],
   "source": [
    "global_churn = df_full_train.churn.mean()\n",
    "global_churn"
   ]
  },
  {
   "cell_type": "code",
   "execution_count": null,
   "id": "3ca47bbe",
   "metadata": {
    "scrolled": true
   },
   "outputs": [],
   "source": [
    "df_full_train.partner.value_counts()"
   ]
  },
  {
   "cell_type": "code",
   "execution_count": null,
   "id": "50525a01",
   "metadata": {
    "scrolled": true
   },
   "outputs": [],
   "source": [
    "churn_partner = df_full_train[df_full_train.partner == 'yes'].churn.mean()\n",
    "churn_partner"
   ]
  },
  {
   "cell_type": "markdown",
   "id": "2179f89c",
   "metadata": {},
   "source": [
    "### Difference"
   ]
  },
  {
   "cell_type": "code",
   "execution_count": null,
   "id": "3005ced2",
   "metadata": {
    "scrolled": true
   },
   "outputs": [],
   "source": [
    "global_churn - churn_partner"
   ]
  },
  {
   "cell_type": "code",
   "execution_count": null,
   "id": "8d1223df",
   "metadata": {},
   "outputs": [],
   "source": [
    "churn_no_partner = df_full_train[df_full_train.partner == 'no'].churn.mean()\n",
    "churn_no_partner"
   ]
  },
  {
   "cell_type": "code",
   "execution_count": null,
   "id": "a9fd7808",
   "metadata": {
    "scrolled": true
   },
   "outputs": [],
   "source": [
    "global_churn - churn_no_partner"
   ]
  },
  {
   "cell_type": "markdown",
   "id": "0c7cf87b",
   "metadata": {},
   "source": [
    "### Risk Ratio"
   ]
  },
  {
   "cell_type": "code",
   "execution_count": null,
   "id": "b6da197b",
   "metadata": {},
   "outputs": [],
   "source": [
    "churn_no_partner / global_churn"
   ]
  },
  {
   "cell_type": "code",
   "execution_count": null,
   "id": "b7a411a8",
   "metadata": {},
   "outputs": [],
   "source": [
    "churn_partner / global_churn"
   ]
  },
  {
   "cell_type": "code",
   "execution_count": null,
   "id": "5b2960d3",
   "metadata": {},
   "outputs": [],
   "source": [
    "from IPython.display import display"
   ]
  },
  {
   "cell_type": "code",
   "execution_count": null,
   "id": "275e6acd",
   "metadata": {
    "scrolled": false
   },
   "outputs": [],
   "source": [
    "for c in categorical:\n",
    "    df_group = df_full_train.groupby(c).churn.agg(['mean', 'count'])\n",
    "    df_group['diff'] = df_group['mean'] - global_churn\n",
    "    df_group['risk'] = df_group['mean'] / global_churn\n",
    "    display(df_group)\n",
    "    print()\n",
    "    print()"
   ]
  },
  {
   "cell_type": "markdown",
   "id": "f3374fb4",
   "metadata": {},
   "source": [
    "### Feature Importance: Mutual Information"
   ]
  },
  {
   "cell_type": "code",
   "execution_count": null,
   "id": "69c53c4a",
   "metadata": {},
   "outputs": [],
   "source": [
    "from sklearn.metrics import mutual_info_score"
   ]
  },
  {
   "cell_type": "code",
   "execution_count": null,
   "id": "73d5d563",
   "metadata": {},
   "outputs": [],
   "source": [
    "mutual_info_score(df_full_train.churn, df_full_train.contract)"
   ]
  },
  {
   "cell_type": "code",
   "execution_count": null,
   "id": "6d1ce644",
   "metadata": {
    "scrolled": true
   },
   "outputs": [],
   "source": [
    "mutual_info_score(df_full_train.gender, df_full_train.churn)"
   ]
  },
  {
   "cell_type": "code",
   "execution_count": null,
   "id": "489ba646",
   "metadata": {
    "scrolled": true
   },
   "outputs": [],
   "source": [
    "mutual_info_score(df_full_train.partner, df_full_train.churn)"
   ]
  },
  {
   "cell_type": "code",
   "execution_count": null,
   "id": "953293eb",
   "metadata": {},
   "outputs": [],
   "source": [
    "def mutual_info_churn_score(series):\n",
    "    return mutual_info_score(series, df_full_train.churn)"
   ]
  },
  {
   "cell_type": "code",
   "execution_count": null,
   "id": "02ff245b",
   "metadata": {
    "scrolled": true
   },
   "outputs": [],
   "source": [
    "mi = df_full_train[categorical].apply(mutual_info_churn_score)\n",
    "mi.sort_values(ascending=False)"
   ]
  },
  {
   "cell_type": "markdown",
   "id": "ac06edc2",
   "metadata": {},
   "source": [
    "### Feature Importance: Correlation"
   ]
  },
  {
   "cell_type": "code",
   "execution_count": null,
   "id": "3672011c",
   "metadata": {},
   "outputs": [],
   "source": [
    "df_full_train.tenure.max()"
   ]
  },
  {
   "cell_type": "code",
   "execution_count": null,
   "id": "7da2f59b",
   "metadata": {},
   "outputs": [],
   "source": [
    "df_full_train[numerical]"
   ]
  }
 ],
 "metadata": {
  "kernelspec": {
   "display_name": "Python 3 (ipykernel)",
   "language": "python",
   "name": "python3"
  },
  "language_info": {
   "codemirror_mode": {
    "name": "ipython",
    "version": 3
   },
   "file_extension": ".py",
   "mimetype": "text/x-python",
   "name": "python",
   "nbconvert_exporter": "python",
   "pygments_lexer": "ipython3",
   "version": "3.9.16"
  }
 },
 "nbformat": 4,
 "nbformat_minor": 5
}
